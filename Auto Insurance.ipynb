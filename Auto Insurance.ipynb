{
 "cells": [
  {
   "cell_type": "code",
   "execution_count": 1,
   "id": "baac6114",
   "metadata": {},
   "outputs": [
    {
     "name": "stdout",
     "output_type": "stream",
     "text": [
      "WARN: OMP_NUM_THREADS=None =>\n",
      "... If you are using openblas if you are using openblas set OMP_NUM_THREADS=1 or risk subprocess calls hanging indefinitely\n"
     ]
    }
   ],
   "source": [
    "import pandas as pd\n",
    "import os\n",
    "import matplotlib.pyplot as plt\n",
    "import numpy as np\n",
    "import re\n",
    "import xgboost as xgb\n",
    "from sklearn.metrics import mean_squared_error\n",
    "from sklearn.model_selection import train_test_split\n",
    "from sklearn import preprocessing\n",
    "from sklearn.metrics import f1_score, recall_score, precision_score, confusion_matrix\n",
    "from sklearn.model_selection import KFold, StratifiedKFold\n",
    "import autokeras as ak\n",
    "from hyperopt import hp\n",
    "from hpsklearn import HyperoptEstimator , svc,random_forest"
   ]
  },
  {
   "cell_type": "code",
   "execution_count": 2,
   "id": "bd5425ea",
   "metadata": {},
   "outputs": [
    {
     "name": "stdout",
     "output_type": "stream",
     "text": [
      "Requirement already satisfied: hyperopt==0.2.5 in c:\\programdata\\anaconda3\\lib\\site-packages (0.2.5)Note: you may need to restart the kernel to use updated packages.\n",
      "Requirement already satisfied: future in c:\\programdata\\anaconda3\\lib\\site-packages (from hyperopt==0.2.5) (0.18.2)\n",
      "Requirement already satisfied: numpy in c:\\programdata\\anaconda3\\lib\\site-packages (from hyperopt==0.2.5) (1.20.1)\n",
      "Requirement already satisfied: six in c:\\programdata\\anaconda3\\lib\\site-packages (from hyperopt==0.2.5) (1.15.0)\n",
      "Requirement already satisfied: cloudpickle in c:\\programdata\\anaconda3\\lib\\site-packages (from hyperopt==0.2.5) (1.6.0)\n",
      "Requirement already satisfied: networkx>=2.2 in c:\\programdata\\anaconda3\\lib\\site-packages (from hyperopt==0.2.5) (2.5)\n",
      "Requirement already satisfied: tqdm in c:\\programdata\\anaconda3\\lib\\site-packages (from hyperopt==0.2.5) (4.59.0)\n",
      "Requirement already satisfied: scipy in c:\\programdata\\anaconda3\\lib\\site-packages (from hyperopt==0.2.5) (1.6.2)\n",
      "Requirement already satisfied: decorator>=4.3.0 in c:\\programdata\\anaconda3\\lib\\site-packages (from networkx>=2.2->hyperopt==0.2.5) (5.0.6)\n",
      "\n"
     ]
    }
   ],
   "source": [
    "# current version of the hyperopt package is unstable, this notebook uses a previous version\n",
    "%pip install hyperopt==0.2.5"
   ]
  },
  {
   "cell_type": "code",
   "execution_count": 3,
   "id": "ad2efac0",
   "metadata": {},
   "outputs": [],
   "source": [
    "df_tea = pd.read_csv(os.path.join('data-scientist-technical-test','data','auto-insurance-fall-2017','test_auto.csv'))"
   ]
  },
  {
   "cell_type": "code",
   "execution_count": 4,
   "id": "85f76b70",
   "metadata": {},
   "outputs": [],
   "source": [
    "df_tra = pd.read_csv(os.path.join('data-scientist-technical-test','data','auto-insurance-fall-2017','train_auto.csv'))"
   ]
  },
  {
   "cell_type": "code",
   "execution_count": 5,
   "id": "4576fb0c",
   "metadata": {},
   "outputs": [
    {
     "data": {
      "text/html": [
       "<div>\n",
       "<style scoped>\n",
       "    .dataframe tbody tr th:only-of-type {\n",
       "        vertical-align: middle;\n",
       "    }\n",
       "\n",
       "    .dataframe tbody tr th {\n",
       "        vertical-align: top;\n",
       "    }\n",
       "\n",
       "    .dataframe thead th {\n",
       "        text-align: right;\n",
       "    }\n",
       "</style>\n",
       "<table border=\"1\" class=\"dataframe\">\n",
       "  <thead>\n",
       "    <tr style=\"text-align: right;\">\n",
       "      <th></th>\n",
       "      <th>INDEX</th>\n",
       "      <th>TARGET_FLAG</th>\n",
       "      <th>TARGET_AMT</th>\n",
       "      <th>KIDSDRIV</th>\n",
       "      <th>AGE</th>\n",
       "      <th>HOMEKIDS</th>\n",
       "      <th>YOJ</th>\n",
       "      <th>TRAVTIME</th>\n",
       "      <th>TIF</th>\n",
       "      <th>CLM_FREQ</th>\n",
       "      <th>MVR_PTS</th>\n",
       "      <th>CAR_AGE</th>\n",
       "    </tr>\n",
       "  </thead>\n",
       "  <tbody>\n",
       "    <tr>\n",
       "      <th>count</th>\n",
       "      <td>8161.000000</td>\n",
       "      <td>8161.000000</td>\n",
       "      <td>8161.000000</td>\n",
       "      <td>8161.000000</td>\n",
       "      <td>8155.000000</td>\n",
       "      <td>8161.000000</td>\n",
       "      <td>7707.000000</td>\n",
       "      <td>8161.000000</td>\n",
       "      <td>8161.000000</td>\n",
       "      <td>8161.000000</td>\n",
       "      <td>8161.000000</td>\n",
       "      <td>7651.000000</td>\n",
       "    </tr>\n",
       "    <tr>\n",
       "      <th>mean</th>\n",
       "      <td>5151.867663</td>\n",
       "      <td>0.263816</td>\n",
       "      <td>1504.324648</td>\n",
       "      <td>0.171057</td>\n",
       "      <td>44.790313</td>\n",
       "      <td>0.721235</td>\n",
       "      <td>10.499286</td>\n",
       "      <td>33.485725</td>\n",
       "      <td>5.351305</td>\n",
       "      <td>0.798554</td>\n",
       "      <td>1.695503</td>\n",
       "      <td>8.328323</td>\n",
       "    </tr>\n",
       "    <tr>\n",
       "      <th>std</th>\n",
       "      <td>2978.893962</td>\n",
       "      <td>0.440728</td>\n",
       "      <td>4704.026930</td>\n",
       "      <td>0.511534</td>\n",
       "      <td>8.627589</td>\n",
       "      <td>1.116323</td>\n",
       "      <td>4.092474</td>\n",
       "      <td>15.908333</td>\n",
       "      <td>4.146635</td>\n",
       "      <td>1.158453</td>\n",
       "      <td>2.147112</td>\n",
       "      <td>5.700742</td>\n",
       "    </tr>\n",
       "    <tr>\n",
       "      <th>min</th>\n",
       "      <td>1.000000</td>\n",
       "      <td>0.000000</td>\n",
       "      <td>0.000000</td>\n",
       "      <td>0.000000</td>\n",
       "      <td>16.000000</td>\n",
       "      <td>0.000000</td>\n",
       "      <td>0.000000</td>\n",
       "      <td>5.000000</td>\n",
       "      <td>1.000000</td>\n",
       "      <td>0.000000</td>\n",
       "      <td>0.000000</td>\n",
       "      <td>-3.000000</td>\n",
       "    </tr>\n",
       "    <tr>\n",
       "      <th>25%</th>\n",
       "      <td>2559.000000</td>\n",
       "      <td>0.000000</td>\n",
       "      <td>0.000000</td>\n",
       "      <td>0.000000</td>\n",
       "      <td>39.000000</td>\n",
       "      <td>0.000000</td>\n",
       "      <td>9.000000</td>\n",
       "      <td>22.000000</td>\n",
       "      <td>1.000000</td>\n",
       "      <td>0.000000</td>\n",
       "      <td>0.000000</td>\n",
       "      <td>1.000000</td>\n",
       "    </tr>\n",
       "    <tr>\n",
       "      <th>50%</th>\n",
       "      <td>5133.000000</td>\n",
       "      <td>0.000000</td>\n",
       "      <td>0.000000</td>\n",
       "      <td>0.000000</td>\n",
       "      <td>45.000000</td>\n",
       "      <td>0.000000</td>\n",
       "      <td>11.000000</td>\n",
       "      <td>33.000000</td>\n",
       "      <td>4.000000</td>\n",
       "      <td>0.000000</td>\n",
       "      <td>1.000000</td>\n",
       "      <td>8.000000</td>\n",
       "    </tr>\n",
       "    <tr>\n",
       "      <th>75%</th>\n",
       "      <td>7745.000000</td>\n",
       "      <td>1.000000</td>\n",
       "      <td>1036.000000</td>\n",
       "      <td>0.000000</td>\n",
       "      <td>51.000000</td>\n",
       "      <td>1.000000</td>\n",
       "      <td>13.000000</td>\n",
       "      <td>44.000000</td>\n",
       "      <td>7.000000</td>\n",
       "      <td>2.000000</td>\n",
       "      <td>3.000000</td>\n",
       "      <td>12.000000</td>\n",
       "    </tr>\n",
       "    <tr>\n",
       "      <th>max</th>\n",
       "      <td>10302.000000</td>\n",
       "      <td>1.000000</td>\n",
       "      <td>107586.136160</td>\n",
       "      <td>4.000000</td>\n",
       "      <td>81.000000</td>\n",
       "      <td>5.000000</td>\n",
       "      <td>23.000000</td>\n",
       "      <td>142.000000</td>\n",
       "      <td>25.000000</td>\n",
       "      <td>5.000000</td>\n",
       "      <td>13.000000</td>\n",
       "      <td>28.000000</td>\n",
       "    </tr>\n",
       "  </tbody>\n",
       "</table>\n",
       "</div>"
      ],
      "text/plain": [
       "              INDEX  TARGET_FLAG     TARGET_AMT     KIDSDRIV          AGE  \\\n",
       "count   8161.000000  8161.000000    8161.000000  8161.000000  8155.000000   \n",
       "mean    5151.867663     0.263816    1504.324648     0.171057    44.790313   \n",
       "std     2978.893962     0.440728    4704.026930     0.511534     8.627589   \n",
       "min        1.000000     0.000000       0.000000     0.000000    16.000000   \n",
       "25%     2559.000000     0.000000       0.000000     0.000000    39.000000   \n",
       "50%     5133.000000     0.000000       0.000000     0.000000    45.000000   \n",
       "75%     7745.000000     1.000000    1036.000000     0.000000    51.000000   \n",
       "max    10302.000000     1.000000  107586.136160     4.000000    81.000000   \n",
       "\n",
       "          HOMEKIDS          YOJ     TRAVTIME          TIF     CLM_FREQ  \\\n",
       "count  8161.000000  7707.000000  8161.000000  8161.000000  8161.000000   \n",
       "mean      0.721235    10.499286    33.485725     5.351305     0.798554   \n",
       "std       1.116323     4.092474    15.908333     4.146635     1.158453   \n",
       "min       0.000000     0.000000     5.000000     1.000000     0.000000   \n",
       "25%       0.000000     9.000000    22.000000     1.000000     0.000000   \n",
       "50%       0.000000    11.000000    33.000000     4.000000     0.000000   \n",
       "75%       1.000000    13.000000    44.000000     7.000000     2.000000   \n",
       "max       5.000000    23.000000   142.000000    25.000000     5.000000   \n",
       "\n",
       "           MVR_PTS      CAR_AGE  \n",
       "count  8161.000000  7651.000000  \n",
       "mean      1.695503     8.328323  \n",
       "std       2.147112     5.700742  \n",
       "min       0.000000    -3.000000  \n",
       "25%       0.000000     1.000000  \n",
       "50%       1.000000     8.000000  \n",
       "75%       3.000000    12.000000  \n",
       "max      13.000000    28.000000  "
      ]
     },
     "execution_count": 5,
     "metadata": {},
     "output_type": "execute_result"
    }
   ],
   "source": [
    "df_tra.describe()"
   ]
  },
  {
   "cell_type": "code",
   "execution_count": 6,
   "id": "21afc3e6",
   "metadata": {},
   "outputs": [
    {
     "data": {
      "text/html": [
       "<div>\n",
       "<style scoped>\n",
       "    .dataframe tbody tr th:only-of-type {\n",
       "        vertical-align: middle;\n",
       "    }\n",
       "\n",
       "    .dataframe tbody tr th {\n",
       "        vertical-align: top;\n",
       "    }\n",
       "\n",
       "    .dataframe thead th {\n",
       "        text-align: right;\n",
       "    }\n",
       "</style>\n",
       "<table border=\"1\" class=\"dataframe\">\n",
       "  <thead>\n",
       "    <tr style=\"text-align: right;\">\n",
       "      <th></th>\n",
       "      <th>INDEX</th>\n",
       "      <th>TARGET_FLAG</th>\n",
       "      <th>TARGET_AMT</th>\n",
       "      <th>KIDSDRIV</th>\n",
       "      <th>AGE</th>\n",
       "      <th>HOMEKIDS</th>\n",
       "      <th>YOJ</th>\n",
       "      <th>INCOME</th>\n",
       "      <th>PARENT1</th>\n",
       "      <th>HOME_VAL</th>\n",
       "      <th>...</th>\n",
       "      <th>BLUEBOOK</th>\n",
       "      <th>TIF</th>\n",
       "      <th>CAR_TYPE</th>\n",
       "      <th>RED_CAR</th>\n",
       "      <th>OLDCLAIM</th>\n",
       "      <th>CLM_FREQ</th>\n",
       "      <th>REVOKED</th>\n",
       "      <th>MVR_PTS</th>\n",
       "      <th>CAR_AGE</th>\n",
       "      <th>URBANICITY</th>\n",
       "    </tr>\n",
       "  </thead>\n",
       "  <tbody>\n",
       "    <tr>\n",
       "      <th>0</th>\n",
       "      <td>3</td>\n",
       "      <td>NaN</td>\n",
       "      <td>NaN</td>\n",
       "      <td>0</td>\n",
       "      <td>48.0</td>\n",
       "      <td>0</td>\n",
       "      <td>11.0</td>\n",
       "      <td>$52,881</td>\n",
       "      <td>No</td>\n",
       "      <td>$0</td>\n",
       "      <td>...</td>\n",
       "      <td>$21,970</td>\n",
       "      <td>1</td>\n",
       "      <td>Van</td>\n",
       "      <td>yes</td>\n",
       "      <td>$0</td>\n",
       "      <td>0</td>\n",
       "      <td>No</td>\n",
       "      <td>2</td>\n",
       "      <td>10.0</td>\n",
       "      <td>Highly Urban/ Urban</td>\n",
       "    </tr>\n",
       "    <tr>\n",
       "      <th>1</th>\n",
       "      <td>9</td>\n",
       "      <td>NaN</td>\n",
       "      <td>NaN</td>\n",
       "      <td>1</td>\n",
       "      <td>40.0</td>\n",
       "      <td>1</td>\n",
       "      <td>11.0</td>\n",
       "      <td>$50,815</td>\n",
       "      <td>Yes</td>\n",
       "      <td>$0</td>\n",
       "      <td>...</td>\n",
       "      <td>$18,930</td>\n",
       "      <td>6</td>\n",
       "      <td>Minivan</td>\n",
       "      <td>no</td>\n",
       "      <td>$3,295</td>\n",
       "      <td>1</td>\n",
       "      <td>No</td>\n",
       "      <td>2</td>\n",
       "      <td>1.0</td>\n",
       "      <td>Highly Urban/ Urban</td>\n",
       "    </tr>\n",
       "    <tr>\n",
       "      <th>2</th>\n",
       "      <td>10</td>\n",
       "      <td>NaN</td>\n",
       "      <td>NaN</td>\n",
       "      <td>0</td>\n",
       "      <td>44.0</td>\n",
       "      <td>2</td>\n",
       "      <td>12.0</td>\n",
       "      <td>$43,486</td>\n",
       "      <td>Yes</td>\n",
       "      <td>$0</td>\n",
       "      <td>...</td>\n",
       "      <td>$5,900</td>\n",
       "      <td>10</td>\n",
       "      <td>z_SUV</td>\n",
       "      <td>no</td>\n",
       "      <td>$0</td>\n",
       "      <td>0</td>\n",
       "      <td>No</td>\n",
       "      <td>0</td>\n",
       "      <td>10.0</td>\n",
       "      <td>z_Highly Rural/ Rural</td>\n",
       "    </tr>\n",
       "    <tr>\n",
       "      <th>3</th>\n",
       "      <td>18</td>\n",
       "      <td>NaN</td>\n",
       "      <td>NaN</td>\n",
       "      <td>0</td>\n",
       "      <td>35.0</td>\n",
       "      <td>2</td>\n",
       "      <td>NaN</td>\n",
       "      <td>$21,204</td>\n",
       "      <td>Yes</td>\n",
       "      <td>$0</td>\n",
       "      <td>...</td>\n",
       "      <td>$9,230</td>\n",
       "      <td>6</td>\n",
       "      <td>Pickup</td>\n",
       "      <td>no</td>\n",
       "      <td>$0</td>\n",
       "      <td>0</td>\n",
       "      <td>Yes</td>\n",
       "      <td>0</td>\n",
       "      <td>4.0</td>\n",
       "      <td>z_Highly Rural/ Rural</td>\n",
       "    </tr>\n",
       "    <tr>\n",
       "      <th>4</th>\n",
       "      <td>21</td>\n",
       "      <td>NaN</td>\n",
       "      <td>NaN</td>\n",
       "      <td>0</td>\n",
       "      <td>59.0</td>\n",
       "      <td>0</td>\n",
       "      <td>12.0</td>\n",
       "      <td>$87,460</td>\n",
       "      <td>No</td>\n",
       "      <td>$0</td>\n",
       "      <td>...</td>\n",
       "      <td>$15,420</td>\n",
       "      <td>1</td>\n",
       "      <td>Minivan</td>\n",
       "      <td>yes</td>\n",
       "      <td>$44,857</td>\n",
       "      <td>2</td>\n",
       "      <td>No</td>\n",
       "      <td>4</td>\n",
       "      <td>1.0</td>\n",
       "      <td>Highly Urban/ Urban</td>\n",
       "    </tr>\n",
       "    <tr>\n",
       "      <th>...</th>\n",
       "      <td>...</td>\n",
       "      <td>...</td>\n",
       "      <td>...</td>\n",
       "      <td>...</td>\n",
       "      <td>...</td>\n",
       "      <td>...</td>\n",
       "      <td>...</td>\n",
       "      <td>...</td>\n",
       "      <td>...</td>\n",
       "      <td>...</td>\n",
       "      <td>...</td>\n",
       "      <td>...</td>\n",
       "      <td>...</td>\n",
       "      <td>...</td>\n",
       "      <td>...</td>\n",
       "      <td>...</td>\n",
       "      <td>...</td>\n",
       "      <td>...</td>\n",
       "      <td>...</td>\n",
       "      <td>...</td>\n",
       "      <td>...</td>\n",
       "    </tr>\n",
       "    <tr>\n",
       "      <th>2136</th>\n",
       "      <td>10279</td>\n",
       "      <td>NaN</td>\n",
       "      <td>NaN</td>\n",
       "      <td>0</td>\n",
       "      <td>46.0</td>\n",
       "      <td>0</td>\n",
       "      <td>0.0</td>\n",
       "      <td>$0</td>\n",
       "      <td>No</td>\n",
       "      <td>$0</td>\n",
       "      <td>...</td>\n",
       "      <td>$1,500</td>\n",
       "      <td>6</td>\n",
       "      <td>Sports Car</td>\n",
       "      <td>no</td>\n",
       "      <td>$20,519</td>\n",
       "      <td>1</td>\n",
       "      <td>Yes</td>\n",
       "      <td>3</td>\n",
       "      <td>8.0</td>\n",
       "      <td>z_Highly Rural/ Rural</td>\n",
       "    </tr>\n",
       "    <tr>\n",
       "      <th>2137</th>\n",
       "      <td>10281</td>\n",
       "      <td>NaN</td>\n",
       "      <td>NaN</td>\n",
       "      <td>0</td>\n",
       "      <td>46.0</td>\n",
       "      <td>0</td>\n",
       "      <td>12.0</td>\n",
       "      <td>$43,501</td>\n",
       "      <td>No</td>\n",
       "      <td>$134,977</td>\n",
       "      <td>...</td>\n",
       "      <td>$16,080</td>\n",
       "      <td>3</td>\n",
       "      <td>Minivan</td>\n",
       "      <td>no</td>\n",
       "      <td>$0</td>\n",
       "      <td>0</td>\n",
       "      <td>No</td>\n",
       "      <td>2</td>\n",
       "      <td>1.0</td>\n",
       "      <td>z_Highly Rural/ Rural</td>\n",
       "    </tr>\n",
       "    <tr>\n",
       "      <th>2138</th>\n",
       "      <td>10285</td>\n",
       "      <td>NaN</td>\n",
       "      <td>NaN</td>\n",
       "      <td>0</td>\n",
       "      <td>55.0</td>\n",
       "      <td>0</td>\n",
       "      <td>10.0</td>\n",
       "      <td>$141,083</td>\n",
       "      <td>No</td>\n",
       "      <td>$393,624</td>\n",
       "      <td>...</td>\n",
       "      <td>$21,110</td>\n",
       "      <td>10</td>\n",
       "      <td>Sports Car</td>\n",
       "      <td>no</td>\n",
       "      <td>$0</td>\n",
       "      <td>0</td>\n",
       "      <td>No</td>\n",
       "      <td>0</td>\n",
       "      <td>22.0</td>\n",
       "      <td>z_Highly Rural/ Rural</td>\n",
       "    </tr>\n",
       "    <tr>\n",
       "      <th>2139</th>\n",
       "      <td>10294</td>\n",
       "      <td>NaN</td>\n",
       "      <td>NaN</td>\n",
       "      <td>0</td>\n",
       "      <td>51.0</td>\n",
       "      <td>0</td>\n",
       "      <td>10.0</td>\n",
       "      <td>$128,523</td>\n",
       "      <td>No</td>\n",
       "      <td>$0</td>\n",
       "      <td>...</td>\n",
       "      <td>$32,960</td>\n",
       "      <td>6</td>\n",
       "      <td>Panel Truck</td>\n",
       "      <td>no</td>\n",
       "      <td>$3,995</td>\n",
       "      <td>3</td>\n",
       "      <td>No</td>\n",
       "      <td>1</td>\n",
       "      <td>15.0</td>\n",
       "      <td>Highly Urban/ Urban</td>\n",
       "    </tr>\n",
       "    <tr>\n",
       "      <th>2140</th>\n",
       "      <td>10300</td>\n",
       "      <td>NaN</td>\n",
       "      <td>NaN</td>\n",
       "      <td>0</td>\n",
       "      <td>48.0</td>\n",
       "      <td>0</td>\n",
       "      <td>15.0</td>\n",
       "      <td>$39,837</td>\n",
       "      <td>No</td>\n",
       "      <td>$170,611</td>\n",
       "      <td>...</td>\n",
       "      <td>$13,820</td>\n",
       "      <td>7</td>\n",
       "      <td>z_SUV</td>\n",
       "      <td>no</td>\n",
       "      <td>$0</td>\n",
       "      <td>0</td>\n",
       "      <td>No</td>\n",
       "      <td>0</td>\n",
       "      <td>1.0</td>\n",
       "      <td>Highly Urban/ Urban</td>\n",
       "    </tr>\n",
       "  </tbody>\n",
       "</table>\n",
       "<p>2141 rows × 26 columns</p>\n",
       "</div>"
      ],
      "text/plain": [
       "      INDEX  TARGET_FLAG  TARGET_AMT  KIDSDRIV   AGE  HOMEKIDS   YOJ  \\\n",
       "0         3          NaN         NaN         0  48.0         0  11.0   \n",
       "1         9          NaN         NaN         1  40.0         1  11.0   \n",
       "2        10          NaN         NaN         0  44.0         2  12.0   \n",
       "3        18          NaN         NaN         0  35.0         2   NaN   \n",
       "4        21          NaN         NaN         0  59.0         0  12.0   \n",
       "...     ...          ...         ...       ...   ...       ...   ...   \n",
       "2136  10279          NaN         NaN         0  46.0         0   0.0   \n",
       "2137  10281          NaN         NaN         0  46.0         0  12.0   \n",
       "2138  10285          NaN         NaN         0  55.0         0  10.0   \n",
       "2139  10294          NaN         NaN         0  51.0         0  10.0   \n",
       "2140  10300          NaN         NaN         0  48.0         0  15.0   \n",
       "\n",
       "        INCOME PARENT1  HOME_VAL  ... BLUEBOOK TIF     CAR_TYPE RED_CAR  \\\n",
       "0      $52,881      No        $0  ...  $21,970   1          Van     yes   \n",
       "1      $50,815     Yes        $0  ...  $18,930   6      Minivan      no   \n",
       "2      $43,486     Yes        $0  ...   $5,900  10        z_SUV      no   \n",
       "3      $21,204     Yes        $0  ...   $9,230   6       Pickup      no   \n",
       "4      $87,460      No        $0  ...  $15,420   1      Minivan     yes   \n",
       "...        ...     ...       ...  ...      ...  ..          ...     ...   \n",
       "2136        $0      No        $0  ...   $1,500   6   Sports Car      no   \n",
       "2137   $43,501      No  $134,977  ...  $16,080   3      Minivan      no   \n",
       "2138  $141,083      No  $393,624  ...  $21,110  10   Sports Car      no   \n",
       "2139  $128,523      No        $0  ...  $32,960   6  Panel Truck      no   \n",
       "2140   $39,837      No  $170,611  ...  $13,820   7        z_SUV      no   \n",
       "\n",
       "      OLDCLAIM CLM_FREQ REVOKED  MVR_PTS CAR_AGE             URBANICITY  \n",
       "0           $0        0      No        2    10.0    Highly Urban/ Urban  \n",
       "1       $3,295        1      No        2     1.0    Highly Urban/ Urban  \n",
       "2           $0        0      No        0    10.0  z_Highly Rural/ Rural  \n",
       "3           $0        0     Yes        0     4.0  z_Highly Rural/ Rural  \n",
       "4      $44,857        2      No        4     1.0    Highly Urban/ Urban  \n",
       "...        ...      ...     ...      ...     ...                    ...  \n",
       "2136   $20,519        1     Yes        3     8.0  z_Highly Rural/ Rural  \n",
       "2137        $0        0      No        2     1.0  z_Highly Rural/ Rural  \n",
       "2138        $0        0      No        0    22.0  z_Highly Rural/ Rural  \n",
       "2139    $3,995        3      No        1    15.0    Highly Urban/ Urban  \n",
       "2140        $0        0      No        0     1.0    Highly Urban/ Urban  \n",
       "\n",
       "[2141 rows x 26 columns]"
      ]
     },
     "execution_count": 6,
     "metadata": {},
     "output_type": "execute_result"
    }
   ],
   "source": [
    "df_tea"
   ]
  },
  {
   "cell_type": "markdown",
   "id": "68f8d180",
   "metadata": {},
   "source": [
    "### Check\n",
    "Checking whether the target is balanced"
   ]
  },
  {
   "cell_type": "code",
   "execution_count": 7,
   "id": "f908ae49",
   "metadata": {},
   "outputs": [
    {
     "data": {
      "text/plain": [
       "INDEX          0.000000\n",
       "TARGET_FLAG    0.000000\n",
       "TARGET_AMT     0.000000\n",
       "KIDSDRIV       0.000000\n",
       "AGE            0.073520\n",
       "HOMEKIDS       0.000000\n",
       "YOJ            5.563044\n",
       "INCOME         5.452763\n",
       "PARENT1        0.000000\n",
       "HOME_VAL       5.685578\n",
       "MSTATUS        0.000000\n",
       "SEX            0.000000\n",
       "EDUCATION      0.000000\n",
       "JOB            6.445289\n",
       "TRAVTIME       0.000000\n",
       "CAR_USE        0.000000\n",
       "BLUEBOOK       0.000000\n",
       "TIF            0.000000\n",
       "CAR_TYPE       0.000000\n",
       "RED_CAR        0.000000\n",
       "OLDCLAIM       0.000000\n",
       "CLM_FREQ       0.000000\n",
       "REVOKED        0.000000\n",
       "MVR_PTS        0.000000\n",
       "CAR_AGE        6.249234\n",
       "URBANICITY     0.000000\n",
       "dtype: float64"
      ]
     },
     "execution_count": 7,
     "metadata": {},
     "output_type": "execute_result"
    }
   ],
   "source": [
    "df_tra.isna().sum()/df_tra.shape[0]*100"
   ]
  },
  {
   "cell_type": "markdown",
   "id": "9168c351",
   "metadata": {},
   "source": [
    "Since all columns have >90% of records valid we don't have to drop any of them (at least not because of too many None values)"
   ]
  },
  {
   "cell_type": "markdown",
   "id": "60094cd2",
   "metadata": {},
   "source": [
    "### Check\n",
    "Checking if there are any records which have many Null values. If there are, then we can drop them"
   ]
  },
  {
   "cell_type": "code",
   "execution_count": 8,
   "id": "ed16c49b",
   "metadata": {},
   "outputs": [
    {
     "data": {
      "text/plain": [
       "<AxesSubplot:>"
      ]
     },
     "execution_count": 8,
     "metadata": {},
     "output_type": "execute_result"
    },
    {
     "data": {
      "image/png": "[encoded data removed]",
      "text/plain": [
       "<Figure size 432x288 with 1 Axes>"
      ]
     },
     "metadata": {
      "needs_background": "light"
     },
     "output_type": "display_data"
    }
   ],
   "source": [
    "df_tra.isna().sum(axis = 1).hist()"
   ]
  },
  {
   "cell_type": "markdown",
   "id": "9286f1c5",
   "metadata": {},
   "source": [
    "Since no record has more than 4 Null values (out of 20 or so columns), we don't need to drop any of them."
   ]
  },
  {
   "cell_type": "markdown",
   "id": "1da601c8",
   "metadata": {},
   "source": [
    "### Check"
   ]
  },
  {
   "cell_type": "markdown",
   "id": "ba416aae",
   "metadata": {},
   "source": [
    "Verifying whether there are any other currencies involved apart from dollars"
   ]
  },
  {
   "cell_type": "code",
   "execution_count": 9,
   "id": "e160d53f",
   "metadata": {},
   "outputs": [
    {
     "name": "stdout",
     "output_type": "stream",
     "text": [
      "INCOME ['$' ';']\n",
      "HOME_VAL ['$' ';']\n",
      "BLUEBOOK ['$']\n",
      "OLDCLAIM ['$']\n"
     ]
    }
   ],
   "source": [
    "x = pd.Series([i[0] for i in df_tra['INCOME'].fillna(';None;').to_numpy() ])\n",
    "print ('INCOME', x.unique())\n",
    "\n",
    "x = pd.Series([i[0] for i in df_tra['HOME_VAL'].fillna(';None;').to_numpy() ])\n",
    "print ('HOME_VAL', x.unique())\n",
    "\n",
    "x = pd.Series([i[0] for i in df_tra['BLUEBOOK'].fillna(';None;').to_numpy() ])\n",
    "print ('BLUEBOOK', x.unique())\n",
    "\n",
    "x = pd.Series([i[0] for i in df_tra['OLDCLAIM'].fillna(';None;').to_numpy() ])\n",
    "print ('OLDCLAIM', x.unique())\n"
   ]
  },
  {
   "cell_type": "markdown",
   "id": "31dcf2e6",
   "metadata": {},
   "source": [
    "All currencies are in dollars so if we would preprocess currencies we don't need to preprocess them separately"
   ]
  },
  {
   "cell_type": "markdown",
   "id": "4dc28293",
   "metadata": {},
   "source": [
    "## Analyzing histograms of features and of features belonging to targets 0/1"
   ]
  },
  {
   "cell_type": "code",
   "execution_count": 10,
   "id": "c073e22a",
   "metadata": {},
   "outputs": [],
   "source": [
    "numeric_cols = ['KIDSDRIV','AGE','HOMEKIDS','YOJ','INCOME','HOME_VAL','TRAVTIME','BLUEBOOK','TIF','OLDCLAIM','CLM_FREQ','MVR_PTS','CAR_AGE']\n",
    "curr_cols = ['INCOME','HOME_VAL','BLUEBOOK','OLDCLAIM']\n",
    "categ_cols = ['CAR_USE','CAR_TYPE','RED_CAR','REVOKED','URBANICITY','PARENT1','MSTATUS','SEX','EDUCATION','JOB']\n"
   ]
  },
  {
   "cell_type": "code",
   "execution_count": 11,
   "id": "9e45b9cd",
   "metadata": {},
   "outputs": [],
   "source": [
    "pd.set_option('display.max_columns', None)"
   ]
  },
  {
   "cell_type": "markdown",
   "id": "92c68cb8",
   "metadata": {},
   "source": [
    "Looking at numerical columns first:"
   ]
  },
  {
   "cell_type": "code",
   "execution_count": 12,
   "id": "91b24625",
   "metadata": {
    "scrolled": true
   },
   "outputs": [
    {
     "name": "stdout",
     "output_type": "stream",
     "text": [
      "----------------- KIDSDRIV -----------------\n"
     ]
    },
    {
     "data": {
      "image/png": "[encoded data removed]",
      "text/plain": [
       "<Figure size 864x288 with 6 Axes>"
      ]
     },
     "metadata": {
      "needs_background": "light"
     },
     "output_type": "display_data"
    },
    {
     "name": "stdout",
     "output_type": "stream",
     "text": [
      "----------------- AGE -----------------\n"
     ]
    },
    {
     "data": {
      "image/png": "[encoded data removed]",
      "text/plain": [
       "<Figure size 864x288 with 6 Axes>"
      ]
     },
     "metadata": {
      "needs_background": "light"
     },
     "output_type": "display_data"
    },
    {
     "name": "stdout",
     "output_type": "stream",
     "text": [
      "----------------- HOMEKIDS -----------------\n"
     ]
    },
    {
     "data": {
      "image/png": "[encoded data removed]",
      "text/plain": [
       "<Figure size 864x288 with 6 Axes>"
      ]
     },
     "metadata": {
      "needs_background": "light"
     },
     "output_type": "display_data"
    },
    {
     "name": "stdout",
     "output_type": "stream",
     "text": [
      "----------------- YOJ -----------------\n"
     ]
    },
    {
     "data": {
      "image/png": "[encoded data removed]",
      "text/plain": [
       "<Figure size 864x288 with 6 Axes>"
      ]
     },
     "metadata": {
      "needs_background": "light"
     },
     "output_type": "display_data"
    },
    {
     "name": "stdout",
     "output_type": "stream",
     "text": [
      "----------------- INCOME -----------------\n"
     ]
    },
    {
     "data": {
      "image/png": "[encoded data removed]",
      "text/plain": [
       "<Figure size 864x288 with 6 Axes>"
      ]
     },
     "metadata": {
      "needs_background": "light"
     },
     "output_type": "display_data"
    },
    {
     "name": "stdout",
     "output_type": "stream",
     "text": [
      "----------------- HOME_VAL -----------------\n"
     ]
    },
    {
     "data": {
      "image/png": "[encoded data removed]",
      "text/plain": [
       "<Figure size 864x288 with 6 Axes>"
      ]
     },
     "metadata": {
      "needs_background": "light"
     },
     "output_type": "display_data"
    },
    {
     "name": "stdout",
     "output_type": "stream",
     "text": [
      "----------------- TRAVTIME -----------------\n"
     ]
    },
    {
     "data": {
      "image/png": "[encoded data removed]",
      "text/plain": [
       "<Figure size 864x288 with 6 Axes>"
      ]
     },
     "metadata": {
      "needs_background": "light"
     },
     "output_type": "display_data"
    },
    {
     "name": "stdout",
     "output_type": "stream",
     "text": [
      "----------------- BLUEBOOK -----------------\n"
     ]
    },
    {
     "data": {
      "image/png": "[encoded data removed]",
      "text/plain": [
       "<Figure size 864x288 with 6 Axes>"
      ]
     },
     "metadata": {
      "needs_background": "light"
     },
     "output_type": "display_data"
    },
    {
     "name": "stdout",
     "output_type": "stream",
     "text": [
      "----------------- TIF -----------------\n"
     ]
    },
    {
     "data": {
      "image/png": "[encoded data removed]",
      "text/plain": [
       "<Figure size 864x288 with 6 Axes>"
      ]
     },
     "metadata": {
      "needs_background": "light"
     },
     "output_type": "display_data"
    },
    {
     "name": "stdout",
     "output_type": "stream",
     "text": [
      "----------------- OLDCLAIM -----------------\n"
     ]
    },
    {
     "data": {
      "image/png": "[encoded data removed]",
      "text/plain": [
       "<Figure size 864x288 with 6 Axes>"
      ]
     },
     "metadata": {
      "needs_background": "light"
     },
     "output_type": "display_data"
    },
    {
     "name": "stdout",
     "output_type": "stream",
     "text": [
      "----------------- CLM_FREQ -----------------\n"
     ]
    },
    {
     "data": {
      "image/png": "[encoded data removed]",
      "text/plain": [
       "<Figure size 864x288 with 6 Axes>"
      ]
     },
     "metadata": {
      "needs_background": "light"
     },
     "output_type": "display_data"
    },
    {
     "name": "stdout",
     "output_type": "stream",
     "text": [
      "----------------- MVR_PTS -----------------\n"
     ]
    },
    {
     "data": {
      "image/png": "[encoded data removed]",
      "text/plain": [
       "<Figure size 864x288 with 6 Axes>"
      ]
     },
     "metadata": {
      "needs_background": "light"
     },
     "output_type": "display_data"
    },
    {
     "name": "stdout",
     "output_type": "stream",
     "text": [
      "----------------- CAR_AGE -----------------\n"
     ]
    },
    {
     "data": {
      "image/png": "[encoded data removed]",
      "text/plain": [
       "<Figure size 864x288 with 6 Axes>"
      ]
     },
     "metadata": {
      "needs_background": "light"
     },
     "output_type": "display_data"
    }
   ],
   "source": [
    "for col in numeric_cols:\n",
    "    if col in curr_cols:\n",
    "        # Transform currency columns into numerical columns\n",
    "        ts = df_tra[df_tra['TARGET_FLAG']==1][col].fillna('$-1')\n",
    "        fs = df_tra[df_tra['TARGET_FLAG']==0][col].fillna('$-1')\n",
    "        ts = ts.apply(lambda x : float(re.sub('[\\$,]', '', x)))\n",
    "        fs = fs.apply(lambda x : float(re.sub('[\\$,]', '', x)))\n",
    "        d = df_tra[col].fillna('$-1')\n",
    "        d = d.apply(lambda x : float(re.sub('[\\$,]', '', x)))\n",
    "        df_tra[col] = df_tra[col].fillna('$-1')\n",
    "        df_tra[col] = df_tra[col].apply(lambda x : float(re.sub('[\\$,]', '', x))).astype(float)\n",
    "    else:\n",
    "        # Use column as it is\n",
    "        ts = df_tra[df_tra['TARGET_FLAG']==1][col]\n",
    "        fs = df_tra[df_tra['TARGET_FLAG']==0][col]\n",
    "        d = df_tra[col]\n",
    "    \n",
    "    # Plot the three historams\n",
    "    fig, axes = plt.subplots(nrows=2, ncols=3, figsize = (12,4))\n",
    "    print ('-----------------',col, '-----------------')\n",
    "    axes[0,0].set_title ('Target 0')\n",
    "    axes[0,1].set_title ('Target 1')\n",
    "    axes[0,2].set_title ('Both targets')\n",
    "    fs.hist(ax=axes[0,0], density = True, bins = 20)\n",
    "    ts.hist(ax=axes[0,1], density = True, bins = 20)\n",
    "    d.hist(ax = axes[0,2], density = True, bins = 20)\n",
    "    \n",
    "    \n",
    "    axes[1,0].set_title ('Log - Target 0')\n",
    "    axes[1,1].set_title ('Log - Target 1')\n",
    "    axes[1,2].set_title ('Log - Both targets')\n",
    "    fs.hist(ax=axes[1,0], density = True, bins = 20, log = True)\n",
    "    ts.hist(ax=axes[1,1], density = True, bins = 20, log = True)\n",
    "    d.hist(ax =axes[1,2], density = True, bins = 20, log = True)\n",
    "    fig.tight_layout()\n",
    "    \n",
    "    plt.show()"
   ]
  },
  {
   "cell_type": "markdown",
   "id": "ee819382",
   "metadata": {},
   "source": [
    "Looking at categorical columns:"
   ]
  },
  {
   "cell_type": "code",
   "execution_count": 13,
   "id": "c16cd02d",
   "metadata": {},
   "outputs": [
    {
     "name": "stdout",
     "output_type": "stream",
     "text": [
      "----------------- CAR_USE -----------------\n"
     ]
    },
    {
     "data": {
      "image/png": "[encoded data removed]",
      "text/plain": [
       "<Figure size 864x288 with 3 Axes>"
      ]
     },
     "metadata": {
      "needs_background": "light"
     },
     "output_type": "display_data"
    },
    {
     "name": "stdout",
     "output_type": "stream",
     "text": [
      "----------------- CAR_TYPE -----------------\n"
     ]
    },
    {
     "data": {
      "image/png": "[encoded data removed]",
      "text/plain": [
       "<Figure size 864x288 with 3 Axes>"
      ]
     },
     "metadata": {
      "needs_background": "light"
     },
     "output_type": "display_data"
    },
    {
     "name": "stdout",
     "output_type": "stream",
     "text": [
      "----------------- RED_CAR -----------------\n"
     ]
    },
    {
     "data": {
      "image/png": "[encoded data removed]",
      "text/plain": [
       "<Figure size 864x288 with 3 Axes>"
      ]
     },
     "metadata": {
      "needs_background": "light"
     },
     "output_type": "display_data"
    },
    {
     "name": "stdout",
     "output_type": "stream",
     "text": [
      "----------------- REVOKED -----------------\n"
     ]
    },
    {
     "data": {
      "image/png": "[encoded data removed]",
      "text/plain": [
       "<Figure size 864x288 with 3 Axes>"
      ]
     },
     "metadata": {
      "needs_background": "light"
     },
     "output_type": "display_data"
    },
    {
     "name": "stdout",
     "output_type": "stream",
     "text": [
      "----------------- URBANICITY -----------------\n"
     ]
    },
    {
     "data": {
      "image/png": "[encoded data removed]",
      "text/plain": [
       "<Figure size 864x288 with 3 Axes>"
      ]
     },
     "metadata": {
      "needs_background": "light"
     },
     "output_type": "display_data"
    },
    {
     "name": "stdout",
     "output_type": "stream",
     "text": [
      "----------------- PARENT1 -----------------\n"
     ]
    },
    {
     "data": {
      "image/png": "[encoded data removed]",
      "text/plain": [
       "<Figure size 864x288 with 3 Axes>"
      ]
     },
     "metadata": {
      "needs_background": "light"
     },
     "output_type": "display_data"
    },
    {
     "name": "stdout",
     "output_type": "stream",
     "text": [
      "----------------- MSTATUS -----------------\n"
     ]
    },
    {
     "data": {
      "image/png": "[encoded data removed]",
      "text/plain": [
       "<Figure size 864x288 with 3 Axes>"
      ]
     },
     "metadata": {
      "needs_background": "light"
     },
     "output_type": "display_data"
    },
    {
     "name": "stdout",
     "output_type": "stream",
     "text": [
      "----------------- SEX -----------------\n"
     ]
    },
    {
     "data": {
      "image/png": "[encoded data removed]",
      "text/plain": [
       "<Figure size 864x288 with 3 Axes>"
      ]
     },
     "metadata": {
      "needs_background": "light"
     },
     "output_type": "display_data"
    },
    {
     "name": "stdout",
     "output_type": "stream",
     "text": [
      "----------------- EDUCATION -----------------\n"
     ]
    },
    {
     "data": {
      "image/png": "[encoded data removed]",
      "text/plain": [
       "<Figure size 864x288 with 3 Axes>"
      ]
     },
     "metadata": {
      "needs_background": "light"
     },
     "output_type": "display_data"
    },
    {
     "name": "stdout",
     "output_type": "stream",
     "text": [
      "----------------- JOB -----------------\n"
     ]
    },
    {
     "data": {
      "image/png": "[encoded data removed]",
      "text/plain": [
       "<Figure size 864x288 with 3 Axes>"
      ]
     },
     "metadata": {
      "needs_background": "light"
     },
     "output_type": "display_data"
    }
   ],
   "source": [
    "\n",
    "for col in categ_cols:\n",
    "    ts = df_tra[df_tra['TARGET_FLAG']==1][col]\n",
    "    fs = df_tra[df_tra['TARGET_FLAG']==0][col]\n",
    "    df_tra[col] = df_tra[col].astype('category')\n",
    "    fig, axes = plt.subplots(nrows=1, ncols=3, figsize = (12,4))\n",
    "    print ('-----------------',col, '-----------------')\n",
    "    axes[0].set_title ('Target 0')\n",
    "    axes[1].set_title ('Target 1')\n",
    "    axes[2].set_title ('Both targets')\n",
    "    fs.hist(ax=axes[0], density = True, bins = 20)\n",
    "    ts.hist(ax=axes[1], density = True, bins = 20)\n",
    "    df_tra[col].hist(ax = axes[2], density = True, bins = 20)\n",
    "    plt.show()"
   ]
  },
  {
   "cell_type": "markdown",
   "id": "6fe671fa",
   "metadata": {},
   "source": [
    "## Cleaning, scaling and standardizing data"
   ]
  },
  {
   "cell_type": "markdown",
   "id": "856c9758",
   "metadata": {},
   "source": [
    "### Filling NULL values"
   ]
  },
  {
   "cell_type": "code",
   "execution_count": 14,
   "id": "dbc7882f",
   "metadata": {},
   "outputs": [],
   "source": [
    "# For categorical columns, just fill with the most common value\n",
    "df_tra[categ_cols] = df_tra[categ_cols].apply(lambda x: x.fillna(x.value_counts().index[0]))\n",
    "# Without time constraints I would've also tried filling with the \"Unkonwn\" category\n",
    "\n",
    "# For numerical columns, just fill with median value\n",
    "# df['X2'] = df['X2'].fillna(df['X2'].median())\n",
    "for nc in numeric_cols:\n",
    "    med_val = df_tra[df_tra[nc]!=-1][nc].median()\n",
    "    if nc in curr_cols:\n",
    "        # fillna occured with value -1, we just have to replace it (since -1 didn't occur in any column previously) with med_val\n",
    "        df_tra.loc[df_tra[nc]==-1, nc] = med_val\n",
    "    else:\n",
    "        # just fill NULL values with med_val\n",
    "        df_tra[nc].fillna(med_val, inplace = True)\n",
    "\n",
    "# Check that there are no NULL values anymore        \n",
    "assert df_tra.isna().sum().sum() == 0"
   ]
  },
  {
   "cell_type": "markdown",
   "id": "c920dfe5",
   "metadata": {},
   "source": [
    "### Scaling and standardizing numeric data"
   ]
  },
  {
   "cell_type": "code",
   "execution_count": 15,
   "id": "fb9b7bb7",
   "metadata": {},
   "outputs": [],
   "source": [
    "scaler = preprocessing.MinMaxScaler()\n",
    "df_tra[numeric_cols] = scaler.fit_transform(df_tra[numeric_cols])\n",
    "\n",
    "scaler = preprocessing.StandardScaler()\n",
    "df_tra[numeric_cols] = scaler.fit_transform(df_tra[numeric_cols])"
   ]
  },
  {
   "cell_type": "markdown",
   "id": "b63625bf",
   "metadata": {},
   "source": [
    "# Splitting data"
   ]
  },
  {
   "cell_type": "markdown",
   "id": "3bc29ee7",
   "metadata": {},
   "source": [
    "Sampling 4000 data (targets with value = True are about 2000 so 4000 samples should obtain a relatively balanced data set)"
   ]
  },
  {
   "cell_type": "code",
   "execution_count": 16,
   "id": "57d35054",
   "metadata": {},
   "outputs": [],
   "source": [
    "\n",
    "w = df_tra['TARGET_FLAG']\n",
    "vc = w.value_counts()\n",
    "w = 1 + (vc[0]/vc[1]-1)*w\n",
    "s = df_tra['TARGET_FLAG'].sample(4000, weights = w, random_state = 888).index\n",
    "df = df_tra.loc[s]\n",
    "df_val = df_tra.loc[~df_tra.index.isin(s)]\n"
   ]
  },
  {
   "cell_type": "code",
   "execution_count": 17,
   "id": "693bf344",
   "metadata": {},
   "outputs": [
    {
     "name": "stdout",
     "output_type": "stream",
     "text": [
      "Training dataset is now of size: 4000 and there are 1629 True values\n"
     ]
    }
   ],
   "source": [
    "print ('Training dataset is now of size:', df['TARGET_FLAG'].shape[0], 'and there are',df['TARGET_FLAG'].sum(), 'True values')"
   ]
  },
  {
   "cell_type": "code",
   "execution_count": 18,
   "id": "9041bd58",
   "metadata": {},
   "outputs": [
    {
     "name": "stdout",
     "output_type": "stream",
     "text": [
      "The rest of the true values we can keep in a test set\n",
      "Total nbr of records in test set: 4161 and total number of True values: 524\n",
      "It is not balanced but this one doesn't need to be\n"
     ]
    }
   ],
   "source": [
    "print ('The rest of the true values we can keep in a test set')\n",
    "print ('Total nbr of records in test set:',df_val.shape[0], 'and total number of True values:',df_val['TARGET_FLAG'].sum())\n",
    "print (\"It is not balanced but this one doesn't need to be\")"
   ]
  },
  {
   "cell_type": "code",
   "execution_count": 19,
   "id": "0bea7ad6",
   "metadata": {},
   "outputs": [],
   "source": [
    "\n",
    "def split_data(df, tp = 'trtest'):\n",
    "    lbl = preprocessing.OneHotEncoder()\n",
    "    lbl.fit(df[categ_cols].astype(str))\n",
    "    enc_feats = lbl.transform(df[categ_cols])\n",
    "    feature_names = numeric_cols+list(lbl.get_feature_names_out())\n",
    "    feats = np.concatenate((df[numeric_cols].to_numpy(),enc_feats.toarray()), axis=1)\n",
    "    X, y = feats, df['TARGET_FLAG'].to_numpy()\n",
    "    X_train, X_test, y_train, y_test = train_test_split(X, y, test_size=0.2, \n",
    "                                                        random_state=789)\n",
    "    \n",
    "    if (tp == 'trtest'):\n",
    "        return X_train, X_test, y_train, y_test, feature_names\n",
    "    elif(tp == 'alldataset'):\n",
    "        return X, y, feature_names\n",
    "    \n",
    "    \n",
    "X_train, X_val, y_train, y_val, feature_names = split_data(df)\n",
    "X_test,y_test, _ = split_data(df_val, 'alldataset')\n",
    "X,y, _  = split_data(df_tra, 'alldataset')"
   ]
  },
  {
   "cell_type": "code",
   "execution_count": 20,
   "id": "414ea201",
   "metadata": {},
   "outputs": [
    {
     "data": {
      "text/plain": [
       "(3200, 1303, 4161, 524, 800, 326)"
      ]
     },
     "execution_count": 20,
     "metadata": {},
     "output_type": "execute_result"
    }
   ],
   "source": [
    "y_train.shape[0], y_train.sum(), y_test.shape[0], y_test.sum(), y_val.shape[0], y_val.sum()"
   ]
  },
  {
   "cell_type": "markdown",
   "id": "baecf2ef",
   "metadata": {},
   "source": [
    "# XGBoost"
   ]
  },
  {
   "cell_type": "code",
   "execution_count": 23,
   "id": "609a6415",
   "metadata": {},
   "outputs": [
    {
     "name": "stdout",
     "output_type": "stream",
     "text": [
      "0.1\n",
      "0.2\n",
      "0.30000000000000004\n",
      "0.4\n",
      "0.5\n",
      "0.6\n",
      "0.7000000000000001\n",
      "0.8\n",
      "0.9\n"
     ]
    }
   ],
   "source": [
    "def train_and_test_XGB(X_train, y_train, X_test,lr,max_depth,alpha,n_est):\n",
    "    \n",
    "    xg_reg = xgb.XGBClassifier(objective ='binary:logistic', colsample_bytree = 0.3, learning_rate = lr,\n",
    "                    max_depth = max_depth, alpha = alpha, n_estimators = n_est)\n",
    "    xg_reg.fit(X_train,y_train)\n",
    "    preds = xg_reg.predict(X_test)\n",
    "    \n",
    "    return preds\n",
    "\n",
    "\n",
    "f1max = 0\n",
    "n_est = 100\n",
    "for lr in np.arange(0.1,1,0.1):\n",
    "    print (lr)\n",
    "    for max_depth in range (3,20):\n",
    "#         print (max_depth)\n",
    "        for alpha in range (0,3):\n",
    "            preds = train_and_test_XGB(X_train, y_train, X_val,lr,max_depth,alpha,n_est)\n",
    "            f1 = f1_score(y_val, preds)\n",
    "            if f1>f1max:\n",
    "                lrmax = lr\n",
    "                mdmax = max_depth\n",
    "                amax = alpha\n",
    "                f1max = f1\n",
    "        "
   ]
  },
  {
   "cell_type": "code",
   "execution_count": 26,
   "id": "cfdde63f",
   "metadata": {},
   "outputs": [
    {
     "name": "stdout",
     "output_type": "stream",
     "text": [
      "Best f1 attempted: 0.6677524429967427\n"
     ]
    }
   ],
   "source": [
    "print ('Best f1 attempted:', f1max)"
   ]
  },
  {
   "cell_type": "markdown",
   "id": "1357cb80",
   "metadata": {},
   "source": [
    "Testing best model on remaining validation data:"
   ]
  },
  {
   "cell_type": "code",
   "execution_count": 27,
   "id": "f7eefca0",
   "metadata": {},
   "outputs": [
    {
     "name": "stdout",
     "output_type": "stream",
     "text": [
      "Validation f1: 0.436 precision: 0.33 recall 0.643\n",
      "confusion matrix:\n",
      "[[2952  685]\n",
      " [ 187  337]]\n"
     ]
    }
   ],
   "source": [
    "\n",
    "preds = train_and_test_XGB(X_train,y_train,X_test,lrmax,mdmax,amax,n_est)\n",
    "print ('Validation f1:', round(f1_score(y_test, preds),3), \n",
    "            'precision:', round(precision_score(y_test,preds),3), \n",
    "            'recall', round(recall_score(y_test,preds),3))\n",
    "print ('confusion matrix:')\n",
    "print (confusion_matrix(y_test, preds))"
   ]
  },
  {
   "cell_type": "markdown",
   "id": "2c28d83b",
   "metadata": {},
   "source": [
    "Testing XGBoost with best parameters from before (not necessarily optimal ones) on entire dataset to check performance overall. I didn't have the time to implement a balancing of the dataset inside the kfold, nevertheless it gives a general idea of the expected performance overall."
   ]
  },
  {
   "cell_type": "code",
   "execution_count": 28,
   "id": "aeaacf51",
   "metadata": {},
   "outputs": [
    {
     "name": "stdout",
     "output_type": "stream",
     "text": [
      "f1: 0.546 precision: 0.654 recall: 0.469\n",
      "confusion matrix:\n",
      "[[1095  107]\n",
      " [ 229  202]]\n",
      "f1: 0.561 precision: 0.66 recall: 0.488\n",
      "confusion matrix:\n",
      "[[1094  108]\n",
      " [ 220  210]]\n",
      "f1: 0.534 precision: 0.693 recall: 0.435\n",
      "confusion matrix:\n",
      "[[1119   83]\n",
      " [ 243  187]]\n",
      "f1: 0.504 precision: 0.712 recall: 0.39\n",
      "confusion matrix:\n",
      "[[1133   68]\n",
      " [ 263  168]]\n",
      "f1: 0.515 precision: 0.65 recall: 0.427\n",
      "confusion matrix:\n",
      "[[1102   99]\n",
      " [ 247  184]]\n"
     ]
    }
   ],
   "source": [
    "kf = StratifiedKFold(n_splits=5)\n",
    "kf.get_n_splits(X)\n",
    "for train_index, val_index in kf.split(X, y):\n",
    "    X_train_kf, X_val_kf, y_train_kf, y_val_kf = X[train_index],X[val_index],y[train_index],y[val_index]\n",
    "    preds = train_and_test_XGB(X_train_kf,y_train_kf,X_val_kf,lrmax,mdmax,amax,n_est)\n",
    "    \n",
    "    print ('f1:', round(f1_score(y_val_kf, preds),3), \n",
    "            'precision:', round(precision_score(y_val_kf,preds),3), \n",
    "            'recall:', round(recall_score(y_val_kf,preds),3))\n",
    "    print ('confusion matrix:')\n",
    "    print (confusion_matrix(y_val_kf, preds))"
   ]
  },
  {
   "cell_type": "markdown",
   "id": "dc21a0a9",
   "metadata": {},
   "source": [
    "We can see that on the general unbalanced dataset we can expect an f1 score around 0.53."
   ]
  },
  {
   "cell_type": "markdown",
   "id": "f95cdadb",
   "metadata": {},
   "source": [
    "XGBoost feature importance:"
   ]
  },
  {
   "cell_type": "code",
   "execution_count": 29,
   "id": "ab78edbc",
   "metadata": {},
   "outputs": [
    {
     "data": {
      "text/html": [
       "<style>#sk-container-id-1 {color: black;background-color: white;}#sk-container-id-1 pre{padding: 0;}#sk-container-id-1 div.sk-toggleable {background-color: white;}#sk-container-id-1 label.sk-toggleable__label {cursor: pointer;display: block;width: 100%;margin-bottom: 0;padding: 0.3em;box-sizing: border-box;text-align: center;}#sk-container-id-1 label.sk-toggleable__label-arrow:before {content: \"▸\";float: left;margin-right: 0.25em;color: #696969;}#sk-container-id-1 label.sk-toggleable__label-arrow:hover:before {color: black;}#sk-container-id-1 div.sk-estimator:hover label.sk-toggleable__label-arrow:before {color: black;}#sk-container-id-1 div.sk-toggleable__content {max-height: 0;max-width: 0;overflow: hidden;text-align: left;background-color: #f0f8ff;}#sk-container-id-1 div.sk-toggleable__content pre {margin: 0.2em;color: black;border-radius: 0.25em;background-color: #f0f8ff;}#sk-container-id-1 input.sk-toggleable__control:checked~div.sk-toggleable__content {max-height: 200px;max-width: 100%;overflow: auto;}#sk-container-id-1 input.sk-toggleable__control:checked~label.sk-toggleable__label-arrow:before {content: \"▾\";}#sk-container-id-1 div.sk-estimator input.sk-toggleable__control:checked~label.sk-toggleable__label {background-color: #d4ebff;}#sk-container-id-1 div.sk-label input.sk-toggleable__control:checked~label.sk-toggleable__label {background-color: #d4ebff;}#sk-container-id-1 input.sk-hidden--visually {border: 0;clip: rect(1px 1px 1px 1px);clip: rect(1px, 1px, 1px, 1px);height: 1px;margin: -1px;overflow: hidden;padding: 0;position: absolute;width: 1px;}#sk-container-id-1 div.sk-estimator {font-family: monospace;background-color: #f0f8ff;border: 1px dotted black;border-radius: 0.25em;box-sizing: border-box;margin-bottom: 0.5em;}#sk-container-id-1 div.sk-estimator:hover {background-color: #d4ebff;}#sk-container-id-1 div.sk-parallel-item::after {content: \"\";width: 100%;border-bottom: 1px solid gray;flex-grow: 1;}#sk-container-id-1 div.sk-label:hover label.sk-toggleable__label {background-color: #d4ebff;}#sk-container-id-1 div.sk-serial::before {content: \"\";position: absolute;border-left: 1px solid gray;box-sizing: border-box;top: 0;bottom: 0;left: 50%;z-index: 0;}#sk-container-id-1 div.sk-serial {display: flex;flex-direction: column;align-items: center;background-color: white;padding-right: 0.2em;padding-left: 0.2em;position: relative;}#sk-container-id-1 div.sk-item {position: relative;z-index: 1;}#sk-container-id-1 div.sk-parallel {display: flex;align-items: stretch;justify-content: center;background-color: white;position: relative;}#sk-container-id-1 div.sk-item::before, #sk-container-id-1 div.sk-parallel-item::before {content: \"\";position: absolute;border-left: 1px solid gray;box-sizing: border-box;top: 0;bottom: 0;left: 50%;z-index: -1;}#sk-container-id-1 div.sk-parallel-item {display: flex;flex-direction: column;z-index: 1;position: relative;background-color: white;}#sk-container-id-1 div.sk-parallel-item:first-child::after {align-self: flex-end;width: 50%;}#sk-container-id-1 div.sk-parallel-item:last-child::after {align-self: flex-start;width: 50%;}#sk-container-id-1 div.sk-parallel-item:only-child::after {width: 0;}#sk-container-id-1 div.sk-dashed-wrapped {border: 1px dashed gray;margin: 0 0.4em 0.5em 0.4em;box-sizing: border-box;padding-bottom: 0.4em;background-color: white;}#sk-container-id-1 div.sk-label label {font-family: monospace;font-weight: bold;display: inline-block;line-height: 1.2em;}#sk-container-id-1 div.sk-label-container {text-align: center;}#sk-container-id-1 div.sk-container {/* jupyter's `normalize.less` sets `[hidden] { display: none; }` but bootstrap.min.css set `[hidden] { display: none !important; }` so we also need the `!important` here to be able to override the default hidden behavior on the sphinx rendered scikit-learn.org. See: https://github.com/scikit-learn/scikit-learn/issues/21755 */display: inline-block !important;position: relative;}#sk-container-id-1 div.sk-text-repr-fallback {display: none;}</style><div id=\"sk-container-id-1\" class=\"sk-top-container\"><div class=\"sk-text-repr-fallback\"><pre>XGBClassifier(alpha=2, base_score=0.5, booster=&#x27;gbtree&#x27;, callbacks=None,\n",
       "              colsample_bylevel=1, colsample_bynode=1, colsample_bytree=0.3,\n",
       "              early_stopping_rounds=None, enable_categorical=False,\n",
       "              eval_metric=None, gamma=0, gpu_id=-1, grow_policy=&#x27;depthwise&#x27;,\n",
       "              importance_type=None, interaction_constraints=&#x27;&#x27;,\n",
       "              learning_rate=0.1, max_bin=256, max_cat_to_onehot=4,\n",
       "              max_delta_step=0, max_depth=19, max_leaves=0, min_child_weight=1,\n",
       "              missing=nan, monotone_constraints=&#x27;()&#x27;, n_estimators=100,\n",
       "              n_jobs=0, num_parallel_tree=1, predictor=&#x27;auto&#x27;, random_state=0,\n",
       "              reg_alpha=2, ...)</pre><b>In a Jupyter environment, please rerun this cell to show the HTML representation or trust the notebook. <br />On GitHub, the HTML representation is unable to render, please try loading this page with nbviewer.org.</b></div><div class=\"sk-container\" hidden><div class=\"sk-item\"><div class=\"sk-estimator sk-toggleable\"><input class=\"sk-toggleable__control sk-hidden--visually\" id=\"sk-estimator-id-1\" type=\"checkbox\" checked><label for=\"sk-estimator-id-1\" class=\"sk-toggleable__label sk-toggleable__label-arrow\">XGBClassifier</label><div class=\"sk-toggleable__content\"><pre>XGBClassifier(alpha=2, base_score=0.5, booster=&#x27;gbtree&#x27;, callbacks=None,\n",
       "              colsample_bylevel=1, colsample_bynode=1, colsample_bytree=0.3,\n",
       "              early_stopping_rounds=None, enable_categorical=False,\n",
       "              eval_metric=None, gamma=0, gpu_id=-1, grow_policy=&#x27;depthwise&#x27;,\n",
       "              importance_type=None, interaction_constraints=&#x27;&#x27;,\n",
       "              learning_rate=0.1, max_bin=256, max_cat_to_onehot=4,\n",
       "              max_delta_step=0, max_depth=19, max_leaves=0, min_child_weight=1,\n",
       "              missing=nan, monotone_constraints=&#x27;()&#x27;, n_estimators=100,\n",
       "              n_jobs=0, num_parallel_tree=1, predictor=&#x27;auto&#x27;, random_state=0,\n",
       "              reg_alpha=2, ...)</pre></div></div></div></div></div>"
      ],
      "text/plain": [
       "XGBClassifier(alpha=2, base_score=0.5, booster='gbtree', callbacks=None,\n",
       "              colsample_bylevel=1, colsample_bynode=1, colsample_bytree=0.3,\n",
       "              early_stopping_rounds=None, enable_categorical=False,\n",
       "              eval_metric=None, gamma=0, gpu_id=-1, grow_policy='depthwise',\n",
       "              importance_type=None, interaction_constraints='',\n",
       "              learning_rate=0.1, max_bin=256, max_cat_to_onehot=4,\n",
       "              max_delta_step=0, max_depth=19, max_leaves=0, min_child_weight=1,\n",
       "              missing=nan, monotone_constraints='()', n_estimators=100,\n",
       "              n_jobs=0, num_parallel_tree=1, predictor='auto', random_state=0,\n",
       "              reg_alpha=2, ...)"
      ]
     },
     "execution_count": 29,
     "metadata": {},
     "output_type": "execute_result"
    }
   ],
   "source": [
    "xg_reg = xgb.XGBClassifier(objective ='binary:logistic', colsample_bytree = 0.3, learning_rate = lrmax,\n",
    "                    max_depth = max_depth, alpha = alpha, n_estimators = n_est)\n",
    "xg_reg.fit(X_train,y_train)"
   ]
  },
  {
   "cell_type": "code",
   "execution_count": 30,
   "id": "71c0c2d9",
   "metadata": {},
   "outputs": [
    {
     "name": "stdout",
     "output_type": "stream",
     "text": [
      "[0.02034499 0.009654   0.01091774 0.00653913 0.00999097 0.00987569\n",
      " 0.00883784 0.00912811 0.00840886 0.01768626 0.02684927 0.0121119\n",
      " 0.00963449 0.01745506 0.01920708 0.03779272 0.00567715 0.00486667\n",
      " 0.00844226 0.0091785  0.01053328 0.00555206 0.00634886 0.03160905\n",
      " 0.01662312 0.17755888 0.26061004 0.01339143 0.0369816  0.01124975\n",
      " 0.01332897 0.00755918 0.00768116 0.0105789  0.00959026 0.01063654\n",
      " 0.00692546 0.02160098 0.00573938 0.00760644 0.00613334 0.00694924\n",
      " 0.03006643 0.00620177 0.00704987 0.00929526]\n"
     ]
    },
    {
     "data": {
      "image/png": "[encoded data removed]",
      "text/plain": [
       "<Figure size 432x288 with 1 Axes>"
      ]
     },
     "metadata": {
      "needs_background": "light"
     },
     "output_type": "display_data"
    }
   ],
   "source": [
    "print(xg_reg.feature_importances_)\n",
    "# plot\n",
    "plt.bar(range(len(xg_reg.feature_importances_)), xg_reg.feature_importances_)\n",
    "plt.show()"
   ]
  },
  {
   "cell_type": "code",
   "execution_count": 31,
   "id": "1592d8e9",
   "metadata": {},
   "outputs": [],
   "source": [
    "fi = {feature_names[i]:xg_reg.feature_importances_[i] for i in range (len(feature_names))}"
   ]
  },
  {
   "cell_type": "code",
   "execution_count": 32,
   "id": "02439a69",
   "metadata": {},
   "outputs": [
    {
     "data": {
      "text/plain": [
       "{'CAR_TYPE_Pickup': 0.00486667,\n",
       " 'RED_CAR_no': 0.0055520646,\n",
       " 'CAR_TYPE_Panel Truck': 0.0056771473,\n",
       " 'JOB_Clerical': 0.005739385,\n",
       " 'JOB_Home Maker': 0.0061333384,\n",
       " 'JOB_Professional': 0.00620177,\n",
       " 'RED_CAR_yes': 0.006348858,\n",
       " 'YOJ': 0.00653913,\n",
       " 'EDUCATION_PhD': 0.0069254627,\n",
       " 'JOB_Lawyer': 0.0069492403,\n",
       " 'JOB_Student': 0.007049874,\n",
       " 'SEX_M': 0.007559179,\n",
       " 'JOB_Doctor': 0.0076064435,\n",
       " 'SEX_z_F': 0.0076811584,\n",
       " 'TIF': 0.008408859,\n",
       " 'CAR_TYPE_Sports Car': 0.008442264,\n",
       " 'TRAVTIME': 0.008837844,\n",
       " 'BLUEBOOK': 0.009128106,\n",
       " 'CAR_TYPE_Van': 0.009178496,\n",
       " 'JOB_z_Blue Collar': 0.009295262,\n",
       " 'EDUCATION_Bachelors': 0.009590261,\n",
       " 'CAR_AGE': 0.009634492,\n",
       " 'AGE': 0.009654002,\n",
       " 'HOME_VAL': 0.009875694,\n",
       " 'INCOME': 0.009990973,\n",
       " 'CAR_TYPE_z_SUV': 0.01053328,\n",
       " 'EDUCATION_<High School': 0.0105789015,\n",
       " 'EDUCATION_Masters': 0.010636543,\n",
       " 'HOMEKIDS': 0.010917741,\n",
       " 'MSTATUS_Yes': 0.011249745,\n",
       " 'MVR_PTS': 0.012111902,\n",
       " 'MSTATUS_z_No': 0.013328973,\n",
       " 'PARENT1_No': 0.013391428,\n",
       " 'REVOKED_Yes': 0.016623123,\n",
       " 'CAR_USE_Commercial': 0.017455056,\n",
       " 'OLDCLAIM': 0.017686255,\n",
       " 'CAR_USE_Private': 0.019207079,\n",
       " 'KIDSDRIV': 0.02034499,\n",
       " 'EDUCATION_z_High School': 0.021600978,\n",
       " 'CLM_FREQ': 0.02684927,\n",
       " 'JOB_Manager': 0.030066427,\n",
       " 'REVOKED_No': 0.031609047,\n",
       " 'PARENT1_Yes': 0.0369816,\n",
       " 'CAR_TYPE_Minivan': 0.03779272,\n",
       " 'URBANICITY_Highly Urban/ Urban': 0.17755888,\n",
       " 'URBANICITY_z_Highly Rural/ Rural': 0.26061004}"
      ]
     },
     "execution_count": 32,
     "metadata": {},
     "output_type": "execute_result"
    }
   ],
   "source": [
    "{k: v for k, v in sorted(fi.items(), key=lambda item: item[1])}"
   ]
  },
  {
   "cell_type": "markdown",
   "id": "64b680d2",
   "metadata": {},
   "source": [
    "It seems XGBoost has found that the most important feature to take into account is whether the car in question is in a rural place or not. I expected this feature to be important after I looked at the histograms plotted above showcasing the categorical variables distribution for different targets. Rural cars are much less likely to be involved in accidents than urban ones. This outcome is expected and shows that the model has most likely been trained correctly."
   ]
  },
  {
   "cell_type": "markdown",
   "id": "543dfbd3",
   "metadata": {},
   "source": [
    "# Random Forest - HPSKLearn"
   ]
  },
  {
   "cell_type": "markdown",
   "id": "ea4d4533",
   "metadata": {},
   "source": [
    "For Random Forest I will use the HyperoptEstimator from Hpsklearn. This package was specifically made to search for hyperparameters mathematically, optimising them in a smart and fast manner. It has performed well from my experience so far, so I'll be using it here"
   ]
  },
  {
   "cell_type": "markdown",
   "id": "51c238ab",
   "metadata": {},
   "source": [
    "https://hyperopt.github.io/hyperopt-sklearn/#what-is-hyperopt-sklearn"
   ]
  },
  {
   "cell_type": "code",
   "execution_count": 33,
   "id": "dc623bd5",
   "metadata": {},
   "outputs": [
    {
     "name": "stdout",
     "output_type": "stream",
     "text": [
      "100%|█████████████████████████████████████████████████| 1/1 [00:02<00:00,  2.68s/trial, best loss: 0.30937499999999996]\n",
      "100%|█████████████████████████████████████████████████| 2/2 [00:02<00:00,  2.99s/trial, best loss: 0.27656250000000004]\n",
      "100%|█████████████████████████████████████████████████| 3/3 [00:01<00:00,  1.65s/trial, best loss: 0.27656250000000004]\n",
      "100%|█████████████████████████████████████████████████| 4/4 [00:07<00:00,  7.55s/trial, best loss: 0.27656250000000004]\n",
      "100%|█████████████████████████████████████████████████| 5/5 [00:01<00:00,  1.59s/trial, best loss: 0.27656250000000004]\n",
      "100%|█████████████████████████████████████████████████| 6/6 [00:01<00:00,  1.59s/trial, best loss: 0.27656250000000004]\n",
      "100%|█████████████████████████████████████████████████| 7/7 [00:14<00:00, 14.59s/trial, best loss: 0.27656250000000004]\n",
      "100%|█████████████████████████████████████████████████| 8/8 [00:01<00:00,  1.51s/trial, best loss: 0.27656250000000004]\n",
      "100%|█████████████████████████████████████████████████| 9/9 [00:01<00:00,  1.48s/trial, best loss: 0.27656250000000004]\n",
      "100%|███████████████████████████████████████████████| 10/10 [00:04<00:00,  4.98s/trial, best loss: 0.27656250000000004]\n"
     ]
    }
   ],
   "source": [
    "clf = hp.pchoice( 'my_name', \n",
    "          [ ( 1.0, random_forest('my_name.random_forest') )])\n",
    "\n",
    "estim = HyperoptEstimator( classifier=clf,max_evals=10, trial_timeout=60 )\n",
    "estim.fit( X_train, y_train )"
   ]
  },
  {
   "cell_type": "code",
   "execution_count": 34,
   "id": "b069e1ee",
   "metadata": {},
   "outputs": [
    {
     "name": "stdout",
     "output_type": "stream",
     "text": [
      "f1: 0.657 precision: 0.688 recall: 0.629\n",
      "confusion matrix:\n",
      "[[381  93]\n",
      " [121 205]]\n"
     ]
    }
   ],
   "source": [
    "# Make a prediction using the optimized model\n",
    "preds = estim.predict( X_val )\n",
    "# HyperoptEstimator( classifier=any_classifier('clf'),\n",
    "\n",
    "print ('f1:', round(f1_score(y_val, preds),3), \n",
    "            'precision:', round(precision_score(y_val,preds),3), \n",
    "            'recall:', round(recall_score(y_val,preds),3))\n",
    "print ('confusion matrix:')\n",
    "print (confusion_matrix(y_val, preds))"
   ]
  },
  {
   "cell_type": "code",
   "execution_count": 35,
   "id": "952d2a08",
   "metadata": {},
   "outputs": [
    {
     "name": "stdout",
     "output_type": "stream",
     "text": [
      "f1: 0.432 precision: 0.333 recall: 0.616\n",
      "confusion matrix:\n",
      "[[2989  648]\n",
      " [ 201  323]]\n"
     ]
    }
   ],
   "source": [
    "# Make a prediction using the optimized model\n",
    "preds = estim.predict( X_test )\n",
    "# HyperoptEstimator( classifier=any_classifier('clf'),\n",
    "\n",
    "print ('f1:', round(f1_score(y_test, preds),3), \n",
    "            'precision:', round(precision_score(y_test,preds),3), \n",
    "            'recall:', round(recall_score(y_test,preds),3))\n",
    "print ('confusion matrix:')\n",
    "print (confusion_matrix(y_test, preds))"
   ]
  },
  {
   "cell_type": "markdown",
   "id": "6968dcd6",
   "metadata": {},
   "source": [
    "Random Forest seems to perform similarly to XGBoost. With results so close, using either seems to bring about the same value."
   ]
  },
  {
   "cell_type": "markdown",
   "id": "d62b93c0",
   "metadata": {},
   "source": [
    "# SVC - HPSKLearn"
   ]
  },
  {
   "cell_type": "code",
   "execution_count": 36,
   "id": "018744c6",
   "metadata": {},
   "outputs": [
    {
     "name": "stdout",
     "output_type": "stream",
     "text": [
      "100%|█████████████████████████████████████████████████| 1/1 [00:01<00:00,  1.73s/trial, best loss: 0.40312499999999996]\n",
      "100%|████████████████████████████████████████████████████████████████| 2/2 [00:04<00:00,  4.20s/trial, best loss: 0.35]\n",
      "100%|█████████████████████████████████████████████████| 3/3 [00:03<00:00,  3.74s/trial, best loss: 0.30156249999999996]\n",
      "100%|█████████████████████████████████████████████████| 4/4 [00:32<00:00, 32.04s/trial, best loss: 0.30156249999999996]\n",
      "100%|█████████████████████████████████████████████████| 5/5 [00:10<00:00, 10.81s/trial, best loss: 0.30000000000000004]\n",
      "100%|█████████████████████████████████████████████████| 6/6 [00:01<00:00,  1.77s/trial, best loss: 0.30000000000000004]\n",
      "100%|█████████████████████████████████████████████████| 7/7 [00:02<00:00,  2.16s/trial, best loss: 0.30000000000000004]\n",
      "100%|█████████████████████████████████████████████████| 8/8 [01:01<00:00, 61.37s/trial, best loss: 0.30000000000000004]\n",
      "100%|█████████████████████████████████████████████████| 9/9 [01:01<00:00, 61.38s/trial, best loss: 0.30000000000000004]\n",
      "100%|███████████████████████████████████████████████| 10/10 [00:01<00:00,  1.68s/trial, best loss: 0.30000000000000004]\n"
     ]
    }
   ],
   "source": [
    "clf = hp.pchoice( 'my_name', \n",
    "          [ ( 1.0, svc('my_name.svc') )])\n",
    "\n",
    "estim = HyperoptEstimator( classifier=clf,max_evals=10, trial_timeout=60 )\n",
    "estim.fit( X_train, y_train )"
   ]
  },
  {
   "cell_type": "code",
   "execution_count": 37,
   "id": "2e910c57",
   "metadata": {},
   "outputs": [
    {
     "name": "stdout",
     "output_type": "stream",
     "text": [
      "f1: 0.659 precision: 0.689 recall: 0.632\n",
      "confusion matrix:\n",
      "[[381  93]\n",
      " [120 206]]\n"
     ]
    }
   ],
   "source": [
    "# Make a prediction using the optimized model\n",
    "preds = estim.predict( X_val )\n",
    "# HyperoptEstimator( classifier=any_classifier('clf'),\n",
    "\n",
    "print ('f1:', round(f1_score(y_val, preds),3), \n",
    "            'precision:', round(precision_score(y_val,preds),3), \n",
    "            'recall:', round(recall_score(y_val,preds),3))\n",
    "print ('confusion matrix:')\n",
    "print (confusion_matrix(y_val, preds))"
   ]
  },
  {
   "cell_type": "code",
   "execution_count": 38,
   "id": "56d63125",
   "metadata": {},
   "outputs": [
    {
     "name": "stdout",
     "output_type": "stream",
     "text": [
      "f1: 0.423 precision: 0.314 recall: 0.649\n",
      "confusion matrix:\n",
      "[[2895  742]\n",
      " [ 184  340]]\n"
     ]
    }
   ],
   "source": [
    "# Make a prediction using the optimized model\n",
    "preds = estim.predict( X_test )\n",
    "# HyperoptEstimator( classifier=any_classifier('clf'),\n",
    "\n",
    "print ('f1:', round(f1_score(y_test, preds),3), \n",
    "            'precision:', round(precision_score(y_test,preds),3), \n",
    "            'recall:', round(recall_score(y_test,preds),3))\n",
    "print ('confusion matrix:')\n",
    "print (confusion_matrix(y_test, preds))"
   ]
  },
  {
   "cell_type": "markdown",
   "id": "0faf1ade",
   "metadata": {},
   "source": [
    "SVC doesn't seem to do a very good job on this dataset. This is probably because the SVC has a linear kernel and can't find nonlinear relationships"
   ]
  },
  {
   "cell_type": "markdown",
   "id": "34691672",
   "metadata": {},
   "source": [
    "# Fully Connected Neural Network - Autokeras"
   ]
  },
  {
   "cell_type": "markdown",
   "id": "869e83e0",
   "metadata": {},
   "source": [
    "Similar to HPSKLearn, Autokeras' purpose is to rapidly optimize the structure of neural networks."
   ]
  },
  {
   "cell_type": "code",
   "execution_count": 39,
   "id": "eacad4f2",
   "metadata": {},
   "outputs": [
    {
     "name": "stdout",
     "output_type": "stream",
     "text": [
      "Trial 10 Complete [00h 00m 11s]\n",
      "val_accuracy: 0.7015625238418579\n",
      "\n",
      "Best val_accuracy So Far: 0.7171875238418579\n",
      "Total elapsed time: 00h 02m 02s\n",
      "INFO:tensorflow:Oracle triggered exit\n",
      "Epoch 1/100\n",
      "100/100 [==============================] - 1s 1ms/step - loss: 0.7842 - accuracy: 0.5516\n",
      "Epoch 2/100\n",
      "100/100 [==============================] - 0s 1ms/step - loss: 0.6799 - accuracy: 0.5944\n",
      "Epoch 3/100\n",
      "100/100 [==============================] - 0s 1ms/step - loss: 0.6589 - accuracy: 0.6247\n",
      "Epoch 4/100\n",
      "100/100 [==============================] - 0s 1ms/step - loss: 0.6499 - accuracy: 0.6228\n",
      "Epoch 5/100\n",
      "100/100 [==============================] - 0s 1ms/step - loss: 0.6357 - accuracy: 0.6438\n",
      "Epoch 6/100\n",
      "100/100 [==============================] - 0s 1ms/step - loss: 0.6149 - accuracy: 0.6666\n",
      "Epoch 7/100\n",
      "100/100 [==============================] - 0s 1ms/step - loss: 0.6180 - accuracy: 0.6691\n",
      "Epoch 8/100\n",
      "100/100 [==============================] - 0s 1ms/step - loss: 0.6108 - accuracy: 0.6653\n",
      "Epoch 9/100\n",
      "100/100 [==============================] - 0s 1ms/step - loss: 0.5988 - accuracy: 0.6831\n",
      "Epoch 10/100\n",
      "100/100 [==============================] - 0s 1ms/step - loss: 0.5854 - accuracy: 0.6931\n",
      "Epoch 11/100\n",
      "100/100 [==============================] - 0s 1ms/step - loss: 0.5777 - accuracy: 0.6931\n",
      "Epoch 12/100\n",
      "100/100 [==============================] - 0s 1ms/step - loss: 0.5733 - accuracy: 0.7044\n",
      "Epoch 13/100\n",
      "100/100 [==============================] - 0s 1ms/step - loss: 0.5681 - accuracy: 0.7047\n",
      "Epoch 14/100\n",
      "100/100 [==============================] - 0s 1ms/step - loss: 0.5655 - accuracy: 0.7103\n",
      "Epoch 15/100\n",
      "100/100 [==============================] - 0s 1ms/step - loss: 0.5646 - accuracy: 0.7044\n",
      "Epoch 16/100\n",
      "100/100 [==============================] - 0s 1ms/step - loss: 0.5538 - accuracy: 0.7147\n",
      "Epoch 17/100\n",
      "100/100 [==============================] - 0s 1ms/step - loss: 0.5533 - accuracy: 0.7141\n",
      "Epoch 18/100\n",
      "100/100 [==============================] - 0s 1ms/step - loss: 0.5543 - accuracy: 0.7084\n",
      "Epoch 19/100\n",
      "100/100 [==============================] - 0s 1ms/step - loss: 0.5486 - accuracy: 0.7138\n",
      "Epoch 20/100\n",
      "100/100 [==============================] - 0s 1ms/step - loss: 0.5432 - accuracy: 0.7269\n",
      "Epoch 21/100\n",
      "100/100 [==============================] - 0s 1ms/step - loss: 0.5395 - accuracy: 0.7287\n",
      "Epoch 22/100\n",
      "100/100 [==============================] - 0s 1ms/step - loss: 0.5393 - accuracy: 0.7266\n",
      "Epoch 23/100\n",
      "100/100 [==============================] - 0s 1ms/step - loss: 0.5407 - accuracy: 0.7284\n",
      "Epoch 24/100\n",
      "100/100 [==============================] - 0s 1ms/step - loss: 0.5337 - accuracy: 0.7322\n",
      "Epoch 25/100\n",
      "100/100 [==============================] - 0s 1ms/step - loss: 0.5291 - accuracy: 0.7297\n",
      "Epoch 26/100\n",
      "100/100 [==============================] - 0s 1ms/step - loss: 0.5340 - accuracy: 0.7281\n",
      "Epoch 27/100\n",
      "100/100 [==============================] - 0s 1ms/step - loss: 0.5315 - accuracy: 0.7384\n",
      "Epoch 28/100\n",
      "100/100 [==============================] - 0s 1ms/step - loss: 0.5289 - accuracy: 0.7381\n",
      "Epoch 29/100\n",
      "100/100 [==============================] - 0s 1ms/step - loss: 0.5296 - accuracy: 0.7362\n",
      "Epoch 30/100\n",
      "100/100 [==============================] - 0s 1ms/step - loss: 0.5225 - accuracy: 0.7384\n",
      "Epoch 31/100\n",
      "100/100 [==============================] - 0s 1ms/step - loss: 0.5246 - accuracy: 0.7422\n",
      "Epoch 32/100\n",
      "100/100 [==============================] - 0s 1ms/step - loss: 0.5250 - accuracy: 0.7375\n",
      "Epoch 33/100\n",
      "100/100 [==============================] - 0s 1ms/step - loss: 0.5176 - accuracy: 0.7441\n",
      "Epoch 34/100\n",
      "100/100 [==============================] - 0s 1ms/step - loss: 0.5155 - accuracy: 0.7441\n",
      "Epoch 35/100\n",
      "100/100 [==============================] - 0s 1ms/step - loss: 0.5184 - accuracy: 0.7428\n",
      "Epoch 36/100\n",
      "100/100 [==============================] - 0s 1ms/step - loss: 0.5115 - accuracy: 0.7513\n",
      "Epoch 37/100\n",
      "100/100 [==============================] - 0s 1ms/step - loss: 0.5116 - accuracy: 0.7506\n",
      "Epoch 38/100\n",
      "100/100 [==============================] - 0s 1ms/step - loss: 0.5101 - accuracy: 0.7525\n",
      "Epoch 39/100\n",
      "100/100 [==============================] - 0s 1ms/step - loss: 0.5038 - accuracy: 0.7475\n",
      "Epoch 40/100\n",
      "100/100 [==============================] - 0s 1ms/step - loss: 0.5060 - accuracy: 0.7553\n",
      "Epoch 41/100\n",
      "100/100 [==============================] - 0s 1ms/step - loss: 0.5045 - accuracy: 0.7491\n",
      "Epoch 42/100\n",
      "100/100 [==============================] - 0s 1ms/step - loss: 0.5047 - accuracy: 0.7531\n",
      "Epoch 43/100\n",
      "100/100 [==============================] - 0s 1ms/step - loss: 0.5059 - accuracy: 0.7584\n",
      "Epoch 44/100\n",
      "100/100 [==============================] - 0s 1ms/step - loss: 0.5015 - accuracy: 0.7616\n",
      "Epoch 45/100\n",
      "100/100 [==============================] - 0s 1ms/step - loss: 0.4967 - accuracy: 0.7525\n",
      "Epoch 46/100\n",
      "100/100 [==============================] - 0s 1ms/step - loss: 0.5021 - accuracy: 0.7475\n",
      "Epoch 47/100\n",
      "100/100 [==============================] - 0s 1ms/step - loss: 0.5000 - accuracy: 0.7522\n",
      "Epoch 48/100\n",
      "100/100 [==============================] - 0s 1ms/step - loss: 0.4936 - accuracy: 0.7622\n",
      "Epoch 49/100\n",
      "100/100 [==============================] - 0s 1ms/step - loss: 0.4978 - accuracy: 0.7622\n",
      "Epoch 50/100\n",
      "100/100 [==============================] - 0s 1ms/step - loss: 0.4934 - accuracy: 0.7575\n",
      "Epoch 51/100\n",
      "100/100 [==============================] - 0s 1ms/step - loss: 0.4930 - accuracy: 0.7606\n",
      "Epoch 52/100\n",
      "100/100 [==============================] - 0s 1ms/step - loss: 0.4907 - accuracy: 0.7638\n",
      "Epoch 53/100\n",
      "100/100 [==============================] - 0s 1ms/step - loss: 0.4967 - accuracy: 0.7588\n",
      "Epoch 54/100\n",
      "100/100 [==============================] - 0s 1ms/step - loss: 0.4920 - accuracy: 0.7538\n",
      "Epoch 55/100\n",
      "100/100 [==============================] - 0s 1ms/step - loss: 0.4851 - accuracy: 0.7600\n",
      "Epoch 56/100\n",
      "100/100 [==============================] - 0s 1ms/step - loss: 0.4838 - accuracy: 0.7684\n",
      "Epoch 57/100\n",
      "100/100 [==============================] - 0s 1ms/step - loss: 0.4812 - accuracy: 0.7628\n",
      "Epoch 58/100\n",
      "100/100 [==============================] - 0s 1ms/step - loss: 0.4821 - accuracy: 0.7766\n",
      "Epoch 59/100\n",
      "100/100 [==============================] - 0s 1ms/step - loss: 0.4835 - accuracy: 0.7616\n",
      "Epoch 60/100\n",
      "100/100 [==============================] - 0s 1ms/step - loss: 0.4811 - accuracy: 0.7753\n",
      "Epoch 61/100\n",
      "100/100 [==============================] - 0s 1ms/step - loss: 0.4776 - accuracy: 0.7709\n",
      "Epoch 62/100\n",
      "100/100 [==============================] - 0s 1ms/step - loss: 0.4775 - accuracy: 0.7731\n",
      "Epoch 63/100\n",
      "100/100 [==============================] - 0s 1ms/step - loss: 0.4796 - accuracy: 0.7734\n",
      "Epoch 64/100\n",
      "100/100 [==============================] - 0s 1ms/step - loss: 0.4822 - accuracy: 0.7628\n",
      "Epoch 65/100\n",
      "100/100 [==============================] - 0s 1ms/step - loss: 0.4748 - accuracy: 0.7797\n",
      "Epoch 66/100\n",
      "100/100 [==============================] - 0s 1ms/step - loss: 0.4722 - accuracy: 0.7759\n",
      "Epoch 67/100\n",
      "100/100 [==============================] - 0s 1ms/step - loss: 0.4805 - accuracy: 0.7678\n",
      "Epoch 68/100\n",
      "100/100 [==============================] - 0s 1ms/step - loss: 0.4721 - accuracy: 0.7741\n",
      "Epoch 69/100\n",
      "100/100 [==============================] - 0s 1ms/step - loss: 0.4684 - accuracy: 0.7819\n",
      "Epoch 70/100\n",
      "100/100 [==============================] - 0s 1ms/step - loss: 0.4706 - accuracy: 0.7794\n",
      "Epoch 71/100\n",
      "100/100 [==============================] - 0s 1ms/step - loss: 0.4693 - accuracy: 0.7806\n",
      "Epoch 72/100\n",
      "100/100 [==============================] - 0s 1ms/step - loss: 0.4642 - accuracy: 0.7781\n",
      "Epoch 73/100\n",
      "100/100 [==============================] - 0s 1ms/step - loss: 0.4618 - accuracy: 0.7794\n",
      "Epoch 74/100\n",
      "100/100 [==============================] - 0s 1ms/step - loss: 0.4656 - accuracy: 0.7778\n",
      "Epoch 75/100\n",
      "100/100 [==============================] - 0s 1ms/step - loss: 0.4685 - accuracy: 0.7828\n",
      "Epoch 76/100\n",
      "100/100 [==============================] - 0s 1ms/step - loss: 0.4620 - accuracy: 0.7784\n",
      "Epoch 77/100\n",
      "100/100 [==============================] - 0s 1ms/step - loss: 0.4640 - accuracy: 0.7816\n",
      "Epoch 78/100\n",
      "100/100 [==============================] - 0s 1ms/step - loss: 0.4575 - accuracy: 0.7916\n",
      "Epoch 79/100\n"
     ]
    },
    {
     "name": "stdout",
     "output_type": "stream",
     "text": [
      "100/100 [==============================] - 0s 1ms/step - loss: 0.4576 - accuracy: 0.7837\n",
      "Epoch 80/100\n",
      "100/100 [==============================] - 0s 1ms/step - loss: 0.4561 - accuracy: 0.7891\n",
      "Epoch 81/100\n",
      "100/100 [==============================] - 0s 1ms/step - loss: 0.4595 - accuracy: 0.7856\n",
      "Epoch 82/100\n",
      "100/100 [==============================] - 0s 1ms/step - loss: 0.4558 - accuracy: 0.7847\n",
      "Epoch 83/100\n",
      "100/100 [==============================] - 0s 1ms/step - loss: 0.4537 - accuracy: 0.7894\n",
      "Epoch 84/100\n",
      "100/100 [==============================] - 0s 1ms/step - loss: 0.4530 - accuracy: 0.7919\n",
      "Epoch 85/100\n",
      "100/100 [==============================] - 0s 1ms/step - loss: 0.4518 - accuracy: 0.7866\n",
      "Epoch 86/100\n",
      "100/100 [==============================] - 0s 1ms/step - loss: 0.4506 - accuracy: 0.7928\n",
      "Epoch 87/100\n",
      "100/100 [==============================] - 0s 1ms/step - loss: 0.4493 - accuracy: 0.7925\n",
      "Epoch 88/100\n",
      "100/100 [==============================] - 0s 1ms/step - loss: 0.4390 - accuracy: 0.7903\n",
      "Epoch 89/100\n",
      "100/100 [==============================] - 0s 1ms/step - loss: 0.4430 - accuracy: 0.7887\n",
      "Epoch 90/100\n",
      "100/100 [==============================] - 0s 1ms/step - loss: 0.4421 - accuracy: 0.7941\n",
      "Epoch 91/100\n",
      "100/100 [==============================] - 0s 1ms/step - loss: 0.4473 - accuracy: 0.7919\n",
      "Epoch 92/100\n",
      "100/100 [==============================] - 0s 1ms/step - loss: 0.4456 - accuracy: 0.7975\n",
      "Epoch 93/100\n",
      "100/100 [==============================] - 0s 1ms/step - loss: 0.4427 - accuracy: 0.7912\n",
      "Epoch 94/100\n",
      "100/100 [==============================] - 0s 1ms/step - loss: 0.4343 - accuracy: 0.8016\n",
      "Epoch 95/100\n",
      "100/100 [==============================] - 0s 1ms/step - loss: 0.4356 - accuracy: 0.7994\n",
      "Epoch 96/100\n",
      "100/100 [==============================] - 0s 1ms/step - loss: 0.4414 - accuracy: 0.7997\n",
      "Epoch 97/100\n",
      "100/100 [==============================] - 0s 1ms/step - loss: 0.4354 - accuracy: 0.7994\n",
      "Epoch 98/100\n",
      "100/100 [==============================] - 0s 1ms/step - loss: 0.4372 - accuracy: 0.7937\n",
      "Epoch 99/100\n",
      "100/100 [==============================] - 0s 1ms/step - loss: 0.4356 - accuracy: 0.7981\n",
      "Epoch 100/100\n",
      "100/100 [==============================] - 0s 1ms/step - loss: 0.4352 - accuracy: 0.8016\n",
      "INFO:tensorflow:Assets written to: .\\structured_data_classifier\\best_model\\assets\n"
     ]
    },
    {
     "data": {
      "text/plain": [
       "<keras.callbacks.History at 0x265acb4dee0>"
      ]
     },
     "execution_count": 39,
     "metadata": {},
     "output_type": "execute_result"
    }
   ],
   "source": [
    "cls = ak.StructuredDataClassifier(overwrite = True, max_trials = 10)\n",
    "cls.fit(X_train,y_train, epochs = 100)"
   ]
  },
  {
   "cell_type": "code",
   "execution_count": 40,
   "id": "ad9eada2",
   "metadata": {},
   "outputs": [
    {
     "name": "stdout",
     "output_type": "stream",
     "text": [
      "25/25 [==============================] - 0s 2ms/step\n",
      "25/25 [==============================] - 0s 1ms/step\n",
      "f1: 0.61 precision: 0.672 recall: 0.558\n",
      "confusion matrix:\n",
      "[[385  89]\n",
      " [144 182]]\n"
     ]
    }
   ],
   "source": [
    "preds = cls.predict(X_val)\n",
    "print ('f1:', round(f1_score(y_val, preds),3), \n",
    "            'precision:', round(precision_score(y_val,preds),3), \n",
    "            'recall:', round(recall_score(y_val,preds),3))\n",
    "print ('confusion matrix:')\n",
    "print (confusion_matrix(y_val, preds))"
   ]
  },
  {
   "cell_type": "code",
   "execution_count": 41,
   "id": "f1f650a0",
   "metadata": {},
   "outputs": [
    {
     "name": "stdout",
     "output_type": "stream",
     "text": [
      "131/131 [==============================] - 0s 1ms/step\n",
      "131/131 [==============================] - 0s 1ms/step\n",
      "f1: 0.404 precision: 0.319 recall: 0.552\n",
      "confusion matrix:\n",
      "[[3020  617]\n",
      " [ 235  289]]\n"
     ]
    }
   ],
   "source": [
    "preds = cls.predict(X_test)\n",
    "print ('f1:', round(f1_score(y_test, preds),3), \n",
    "            'precision:', round(precision_score(y_test,preds),3), \n",
    "            'recall:', round(recall_score(y_test,preds),3))\n",
    "print ('confusion matrix:')\n",
    "print (confusion_matrix(y_test, preds))"
   ]
  },
  {
   "cell_type": "markdown",
   "id": "9089b038",
   "metadata": {},
   "source": [
    "Neural networks seem to perform (very) slightly worse than XGBoost. Given the present circumstances, I'd use XGBoost because it's also faster to train"
   ]
  },
  {
   "cell_type": "markdown",
   "id": "1a9de36a",
   "metadata": {},
   "source": [
    "# Conclusion"
   ]
  },
  {
   "cell_type": "markdown",
   "id": "a4df129f",
   "metadata": {},
   "source": [
    "XGBoost seems to be the model of choice for our purpose here because of its high f1_score (relative to the others) on both test and validation datasets. I will thus use this model to predict the unknown data."
   ]
  },
  {
   "cell_type": "markdown",
   "id": "91f4dc5c",
   "metadata": {},
   "source": [
    "So I'll perform all preprocessing steps on the unknown dataset first, and then predict on it. I would expect an f1 of about 0.50-0.55"
   ]
  },
  {
   "cell_type": "code",
   "execution_count": 42,
   "id": "e5175dbe",
   "metadata": {},
   "outputs": [],
   "source": [
    "for col in numeric_cols:\n",
    "    if col in curr_cols:\n",
    "        # Transform currency columns into numerical columns\n",
    "        ts = df_tea[df_tea['TARGET_FLAG']==1][col].fillna('$-1')\n",
    "        fs = df_tea[df_tea['TARGET_FLAG']==0][col].fillna('$-1')\n",
    "        ts = ts.apply(lambda x : float(re.sub('[\\$,]', '', x)))\n",
    "        fs = fs.apply(lambda x : float(re.sub('[\\$,]', '', x)))\n",
    "        d = df_tea[col].fillna('$-1')\n",
    "        d = d.apply(lambda x : float(re.sub('[\\$,]', '', x)))\n",
    "        df_tea[col] = df_tea[col].fillna('$-1')\n",
    "        df_tea[col] = df_tea[col].apply(lambda x : float(re.sub('[\\$,]', '', x))).astype(float)\n",
    "\n",
    "\n",
    "\n",
    "\n",
    "df_tea[categ_cols] = df_tea[categ_cols].apply(lambda x: x.fillna(x.value_counts().index[0]))\n",
    "for nc in numeric_cols:\n",
    "    med_val = df_tea[df_tea[nc]!=-1][nc].median()\n",
    "    if nc in curr_cols:\n",
    "        df_tea.loc[df_tea[nc]==-1, nc] = med_val\n",
    "    else:\n",
    "        df_tea[nc].fillna(med_val, inplace = True)\n",
    "        \n",
    " \n",
    "        \n",
    "\n",
    "scaler = preprocessing.MinMaxScaler()\n",
    "df_tea[numeric_cols] = scaler.fit_transform(df_tea[numeric_cols])\n",
    "\n",
    "scaler = preprocessing.StandardScaler()\n",
    "df_tea[numeric_cols] = scaler.fit_transform(df_tea[numeric_cols])\n",
    "\n",
    "\n",
    "        \n",
    "lbl = preprocessing.OneHotEncoder()\n",
    "lbl.fit(df_tea[categ_cols].astype(str))\n",
    "enc_feats = lbl.transform(df_tea[categ_cols])\n",
    "feature_names = numeric_cols+list(lbl.get_feature_names_out())\n",
    "feats = np.concatenate((df_tea[numeric_cols].to_numpy(),enc_feats.toarray()), axis=1)\n",
    "X = feats"
   ]
  },
  {
   "cell_type": "code",
   "execution_count": 43,
   "id": "0ac73264",
   "metadata": {},
   "outputs": [],
   "source": [
    "# Retraining model as it was never returned from the function which created it\n",
    "xg_reg = xgb.XGBClassifier(objective ='binary:logistic', colsample_bytree = 0.3, learning_rate = lr,\n",
    "                    max_depth = max_depth, alpha = alpha, n_estimators = n_est)\n",
    "xg_reg.fit(X_train,y_train)\n",
    "preds = xg_reg.predict(X)"
   ]
  },
  {
   "cell_type": "markdown",
   "id": "e9b47c0c",
   "metadata": {},
   "source": [
    "And now we have the predictions for the unknown data:"
   ]
  },
  {
   "cell_type": "code",
   "execution_count": 44,
   "id": "edb3b298",
   "metadata": {},
   "outputs": [
    {
     "data": {
      "text/plain": [
       "array([1, 0, 0, ..., 0, 0, 1])"
      ]
     },
     "execution_count": 44,
     "metadata": {},
     "output_type": "execute_result"
    }
   ],
   "source": [
    "preds"
   ]
  },
  {
   "cell_type": "code",
   "execution_count": null,
   "id": "e5fdd3d1",
   "metadata": {},
   "outputs": [],
   "source": []
  },
  {
   "cell_type": "code",
   "execution_count": null,
   "id": "d7657a14",
   "metadata": {},
   "outputs": [],
   "source": []
  },
  {
   "cell_type": "code",
   "execution_count": null,
   "id": "bada80fa",
   "metadata": {},
   "outputs": [],
   "source": []
  }
 ],
 "metadata": {
  "kernelspec": {
   "display_name": "Python 3",
   "language": "python",
   "name": "python3"
  },
  "language_info": {
   "codemirror_mode": {
    "name": "ipython",
    "version": 3
   },
   "file_extension": ".py",
   "mimetype": "text/x-python",
   "name": "python",
   "nbconvert_exporter": "python",
   "pygments_lexer": "ipython3",
   "version": "3.8.8"
  }
 },
 "nbformat": 4,
 "nbformat_minor": 5
}
